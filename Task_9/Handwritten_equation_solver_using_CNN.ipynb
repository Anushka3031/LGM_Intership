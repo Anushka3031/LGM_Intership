{
  "cells": [
    {
      "cell_type": "code",
      "execution_count": 1,
      "metadata": {
        "id": "d_CCkyAtsDE8"
      },
      "outputs": [],
      "source": [
        "import numpy as np\n",
        "import cv2\n",
        "from PIL import Image\n",
        "from matplotlib import pyplot as plt\n",
        "%matplotlib inline\n",
        "import os\n",
        "from os import listdir\n",
        "from os.path import isfile, join\n",
        "import pandas as pd\n",
        "\n",
        "import pickle"
      ]
    },
    {
      "cell_type": "code",
      "execution_count": 2,
      "metadata": {
        "id": "TL5X5nLJsD4h"
      },
      "outputs": [],
      "source": [
        "def load_images_from_folder(folder):\n",
        "    train_data=[]\n",
        "    for filename in os.listdir(folder):\n",
        "        img = cv2.imread(os.path.join(folder,filename),cv2.IMREAD_GRAYSCALE)\n",
        "        img=~img\n",
        "        if img is not None:\n",
        "            ret,thresh=cv2.threshold(img,127,255,cv2.THRESH_BINARY)\n",
        "\n",
        "            ctrs,ret=cv2.findContours(thresh,cv2.RETR_EXTERNAL,cv2.CHAIN_APPROX_NONE)\n",
        "            cnt=sorted(ctrs, key=lambda ctr: cv2.boundingRect(ctr)[0])\n",
        "            w=int(28)\n",
        "            h=int(28)\n",
        "            maxi=0\n",
        "            for c in cnt:\n",
        "                x,y,w,h=cv2.boundingRect(c)\n",
        "                maxi=max(w*h,maxi)\n",
        "                if maxi==w*h:\n",
        "                    x_max=x\n",
        "                    y_max=y\n",
        "                    w_max=w\n",
        "                    h_max=h\n",
        "            im_crop= thresh[y_max:y_max+h_max+10, x_max:x_max+w_max+10]\n",
        "            im_resize = cv2.resize(im_crop,(28,28))\n",
        "            im_resize=np.reshape(im_resize,(784,1))\n",
        "            train_data.append(im_resize)\n",
        "    return train_data\n"
      ]
    },
    {
      "cell_type": "code",
      "execution_count": 3,
      "metadata": {
        "colab": {
          "base_uri": "https://localhost:8080/"
        },
        "id": "rfdEoeSQsIUV",
        "outputId": "ae4e0cf8-297c-4fec-96b9-e235261aa5b6"
      },
      "outputs": [
        {
          "name": "stdout",
          "output_type": "stream",
          "text": [
            "33997\n"
          ]
        }
      ],
      "source": [
        "data=[]\n",
        "data=load_images_from_folder('../Task_9/extracted_images/-')\n",
        "len(data)\n",
        "for i in range(0,len(data)):\n",
        "    data[i]=np.append(data[i],['10'])\n",
        "\n",
        "print(len(data))"
      ]
    },
    {
      "cell_type": "code",
      "execution_count": 4,
      "metadata": {
        "colab": {
          "base_uri": "https://localhost:8080/"
        },
        "id": "ieWFHqMWsKuX",
        "outputId": "84693abe-3c87-4d4d-b043-dfeed5833f2e"
      },
      "outputs": [
        {
          "name": "stdout",
          "output_type": "stream",
          "text": [
            "59109\n"
          ]
        }
      ],
      "source": [
        "data11=load_images_from_folder('../Task_9/extracted_images/+')\n",
        "\n",
        "for i in range(0,len(data11)):\n",
        "    data11[i]=np.append(data11[i],['11'])\n",
        "data=np.concatenate((data,data11))\n",
        "print(len(data))"
      ]
    },
    {
      "cell_type": "code",
      "execution_count": 5,
      "metadata": {
        "colab": {
          "base_uri": "https://localhost:8080/"
        },
        "id": "FjGxtOCQsX4Q",
        "outputId": "e012d234-120c-4055-8d11-b18a27a263a1"
      },
      "outputs": [
        {
          "name": "stdout",
          "output_type": "stream",
          "text": [
            "66023\n"
          ]
        }
      ],
      "source": [
        "data0=load_images_from_folder('../Task_9/extracted_images/0')\n",
        "for i in range(0,len(data0)):\n",
        "    data0[i]=np.append(data0[i],['0'])\n",
        "data=np.concatenate((data,data0))\n",
        "print(len(data))"
      ]
    },
    {
      "cell_type": "code",
      "execution_count": 6,
      "metadata": {
        "colab": {
          "base_uri": "https://localhost:8080/"
        },
        "id": "hzWsru9UtuSC",
        "outputId": "6676835a-ba10-4ec5-8ce9-d20885e99393"
      },
      "outputs": [
        {
          "name": "stdout",
          "output_type": "stream",
          "text": [
            "92543\n"
          ]
        }
      ],
      "source": [
        "data1=load_images_from_folder('../Task_9/extracted_images/1')\n",
        "for i in range(0,len(data1)):\n",
        "    data1[i]=np.append(data1[i],['1'])\n",
        "data=np.concatenate((data,data1))\n",
        "print(len(data))"
      ]
    },
    {
      "cell_type": "code",
      "execution_count": 7,
      "metadata": {
        "colab": {
          "base_uri": "https://localhost:8080/"
        },
        "id": "ez7n48pat0db",
        "outputId": "9e1381b7-a258-47ff-f4eb-d3d81757e347"
      },
      "outputs": [
        {
          "name": "stdout",
          "output_type": "stream",
          "text": [
            "118684\n"
          ]
        }
      ],
      "source": [
        "data2=load_images_from_folder('../Task_9/extracted_images/2')\n",
        "for i in range(0,len(data2)):\n",
        "    data2[i]=np.append(data2[i],['2'])\n",
        "data=np.concatenate((data,data2))\n",
        "print(len(data))"
      ]
    },
    {
      "cell_type": "code",
      "execution_count": 8,
      "metadata": {
        "colab": {
          "base_uri": "https://localhost:8080/"
        },
        "id": "ayhxhfget6v5",
        "outputId": "a2995269-2bc4-4cf8-f916-2a82134de558"
      },
      "outputs": [
        {
          "name": "stdout",
          "output_type": "stream",
          "text": [
            "129593\n"
          ]
        }
      ],
      "source": [
        "data3=load_images_from_folder('../Task_9/extracted_images/3')\n",
        "for i in range(0,len(data3)):\n",
        "    data3[i]=np.append(data3[i],['3'])\n",
        "data=np.concatenate((data,data3))\n",
        "print(len(data))"
      ]
    },
    {
      "cell_type": "code",
      "execution_count": 9,
      "metadata": {
        "colab": {
          "base_uri": "https://localhost:8080/"
        },
        "id": "myv_hu0uuG8Y",
        "outputId": "4a8a056b-9814-4745-9301-eb53874847fb"
      },
      "outputs": [
        {
          "name": "stdout",
          "output_type": "stream",
          "text": [
            "136989\n"
          ]
        }
      ],
      "source": [
        "data4=load_images_from_folder('../Task_9/extracted_images/4')\n",
        "for i in range(0,len(data4)):\n",
        "    data4[i]=np.append(data4[i],['4'])\n",
        "data=np.concatenate((data,data4))\n",
        "print(len(data))"
      ]
    },
    {
      "cell_type": "code",
      "execution_count": 10,
      "metadata": {
        "colab": {
          "base_uri": "https://localhost:8080/"
        },
        "id": "r9tG6al0uLR7",
        "outputId": "5125bed5-0a8d-4e07-a124-bcc5fa2e3129"
      },
      "outputs": [
        {
          "name": "stdout",
          "output_type": "stream",
          "text": [
            "140534\n"
          ]
        }
      ],
      "source": [
        "data5=load_images_from_folder('../Task_9/extracted_images/5')\n",
        "for i in range(0,len(data5)):\n",
        "    data5[i]=np.append(data5[i],['5'])\n",
        "data=np.concatenate((data,data5))\n",
        "print(len(data))"
      ]
    },
    {
      "cell_type": "code",
      "execution_count": 11,
      "metadata": {
        "colab": {
          "base_uri": "https://localhost:8080/"
        },
        "id": "QACKoUM_uP4a",
        "outputId": "b24d5618-958e-4393-ec31-44737ce43d2f"
      },
      "outputs": [
        {
          "name": "stdout",
          "output_type": "stream",
          "text": [
            "143652\n"
          ]
        }
      ],
      "source": [
        "data6=load_images_from_folder('../Task_9/extracted_images/6')\n",
        "for i in range(0,len(data6)):\n",
        "    data6[i]=np.append(data6[i],['6'])\n",
        "data=np.concatenate((data,data6))\n",
        "print(len(data))"
      ]
    },
    {
      "cell_type": "code",
      "execution_count": 12,
      "metadata": {
        "colab": {
          "base_uri": "https://localhost:8080/"
        },
        "id": "s-tOktE2uauz",
        "outputId": "bd992de1-7dfb-43e1-f1ca-798a9045376c"
      },
      "outputs": [
        {
          "name": "stdout",
          "output_type": "stream",
          "text": [
            "146561\n"
          ]
        }
      ],
      "source": [
        "data7=load_images_from_folder('../Task_9/extracted_images/7')\n",
        "for i in range(0,len(data7)):\n",
        "    data7[i]=np.append(data7[i],['7'])\n",
        "data=np.concatenate((data,data7))\n",
        "print(len(data))"
      ]
    },
    {
      "cell_type": "code",
      "execution_count": 13,
      "metadata": {
        "colab": {
          "base_uri": "https://localhost:8080/"
        },
        "id": "l4KtVlcDuhNN",
        "outputId": "738055a7-e988-49bb-d777-9b248057b016"
      },
      "outputs": [
        {
          "name": "stdout",
          "output_type": "stream",
          "text": [
            "149629\n"
          ]
        }
      ],
      "source": [
        "data8 = load_images_from_folder('../Task_9/extracted_images/8')\n",
        "for i in range(0,len(data8)):\n",
        "    data8[i]=np.append(data8[i],['8'])\n",
        "data=np.concatenate((data,data8))\n",
        "print(len(data))"
      ]
    },
    {
      "cell_type": "code",
      "execution_count": 14,
      "metadata": {
        "colab": {
          "base_uri": "https://localhost:8080/"
        },
        "id": "i-dkqYmQulU2",
        "outputId": "5567b751-c51a-4884-c9f5-a28e2be8491d"
      },
      "outputs": [
        {
          "name": "stdout",
          "output_type": "stream",
          "text": [
            "153366\n"
          ]
        }
      ],
      "source": [
        "data9 = load_images_from_folder('../Task_9/extracted_images/9')\n",
        "for i in range(0,len(data9)):\n",
        "    data9[i]=np.append(data9[i],['9'])\n",
        "data=np.concatenate((data,data9))\n",
        "print(len(data))"
      ]
    },
    {
      "cell_type": "code",
      "execution_count": 15,
      "metadata": {
        "colab": {
          "base_uri": "https://localhost:8080/"
        },
        "id": "hp6o750TvAEI",
        "outputId": "3f3905cc-a885-4bc8-ac6e-e547d3952553"
      },
      "outputs": [
        {
          "name": "stdout",
          "output_type": "stream",
          "text": [
            "179960\n"
          ]
        }
      ],
      "source": [
        "data12 = load_images_from_folder('../Task_9/extracted_images/X')\n",
        "for i in range(0,len(data12)):\n",
        "    data12[i]=np.append(data12[i],['12'])\n",
        "data=np.concatenate((data,data12))\n",
        "print(len(data))"
      ]
    },
    {
      "cell_type": "code",
      "execution_count": 16,
      "metadata": {
        "id": "_iOH7DoBKsTB"
      },
      "outputs": [],
      "source": [
        "df=pd.DataFrame(data,index=None)\n",
        "df.to_csv('train_handwritten.csv',index=False)"
      ]
    },
    {
      "cell_type": "code",
      "execution_count": null,
      "metadata": {
        "id": "2QaU9iEHLEG3"
      },
      "outputs": [],
      "source": []
    },
    {
      "cell_type": "code",
      "execution_count": null,
      "metadata": {
        "id": "_mYITxT0MCeK"
      },
      "outputs": [],
      "source": []
    },
    {
      "cell_type": "markdown",
      "metadata": {
        "id": "NKf75vDLMDLB"
      },
      "source": [
        "# Model Building"
      ]
    },
    {
      "cell_type": "code",
      "execution_count": 19,
      "metadata": {
        "id": "6qmcrjC-MEjj"
      },
      "outputs": [],
      "source": [
        "data = pd.read_csv('train_handwritten.csv',index_col=False)\n",
        "labels = data[['784']]"
      ]
    },
    {
      "cell_type": "code",
      "execution_count": 20,
      "metadata": {
        "colab": {
          "base_uri": "https://localhost:8080/",
          "height": 235
        },
        "id": "h9iuIRQ_MjHk",
        "outputId": "5872905e-12cc-4d84-a109-c81303489882"
      },
      "outputs": [
        {
          "data": {
            "text/html": [
              "<div>\n",
              "<style scoped>\n",
              "    .dataframe tbody tr th:only-of-type {\n",
              "        vertical-align: middle;\n",
              "    }\n",
              "\n",
              "    .dataframe tbody tr th {\n",
              "        vertical-align: top;\n",
              "    }\n",
              "\n",
              "    .dataframe thead th {\n",
              "        text-align: right;\n",
              "    }\n",
              "</style>\n",
              "<table border=\"1\" class=\"dataframe\">\n",
              "  <thead>\n",
              "    <tr style=\"text-align: right;\">\n",
              "      <th></th>\n",
              "      <th>0</th>\n",
              "      <th>1</th>\n",
              "      <th>2</th>\n",
              "      <th>3</th>\n",
              "      <th>4</th>\n",
              "      <th>5</th>\n",
              "      <th>6</th>\n",
              "      <th>7</th>\n",
              "      <th>8</th>\n",
              "      <th>9</th>\n",
              "      <th>...</th>\n",
              "      <th>774</th>\n",
              "      <th>775</th>\n",
              "      <th>776</th>\n",
              "      <th>777</th>\n",
              "      <th>778</th>\n",
              "      <th>779</th>\n",
              "      <th>780</th>\n",
              "      <th>781</th>\n",
              "      <th>782</th>\n",
              "      <th>783</th>\n",
              "    </tr>\n",
              "  </thead>\n",
              "  <tbody>\n",
              "    <tr>\n",
              "      <th>0</th>\n",
              "      <td>255</td>\n",
              "      <td>255</td>\n",
              "      <td>255</td>\n",
              "      <td>255</td>\n",
              "      <td>255</td>\n",
              "      <td>255</td>\n",
              "      <td>255</td>\n",
              "      <td>255</td>\n",
              "      <td>255</td>\n",
              "      <td>255</td>\n",
              "      <td>...</td>\n",
              "      <td>0</td>\n",
              "      <td>0</td>\n",
              "      <td>0</td>\n",
              "      <td>0</td>\n",
              "      <td>0</td>\n",
              "      <td>0</td>\n",
              "      <td>0</td>\n",
              "      <td>0</td>\n",
              "      <td>0</td>\n",
              "      <td>0</td>\n",
              "    </tr>\n",
              "    <tr>\n",
              "      <th>1</th>\n",
              "      <td>255</td>\n",
              "      <td>255</td>\n",
              "      <td>255</td>\n",
              "      <td>255</td>\n",
              "      <td>255</td>\n",
              "      <td>255</td>\n",
              "      <td>255</td>\n",
              "      <td>255</td>\n",
              "      <td>255</td>\n",
              "      <td>255</td>\n",
              "      <td>...</td>\n",
              "      <td>0</td>\n",
              "      <td>0</td>\n",
              "      <td>0</td>\n",
              "      <td>0</td>\n",
              "      <td>0</td>\n",
              "      <td>0</td>\n",
              "      <td>0</td>\n",
              "      <td>0</td>\n",
              "      <td>0</td>\n",
              "      <td>0</td>\n",
              "    </tr>\n",
              "    <tr>\n",
              "      <th>2</th>\n",
              "      <td>255</td>\n",
              "      <td>255</td>\n",
              "      <td>255</td>\n",
              "      <td>255</td>\n",
              "      <td>255</td>\n",
              "      <td>255</td>\n",
              "      <td>255</td>\n",
              "      <td>255</td>\n",
              "      <td>255</td>\n",
              "      <td>255</td>\n",
              "      <td>...</td>\n",
              "      <td>0</td>\n",
              "      <td>0</td>\n",
              "      <td>0</td>\n",
              "      <td>0</td>\n",
              "      <td>0</td>\n",
              "      <td>0</td>\n",
              "      <td>0</td>\n",
              "      <td>0</td>\n",
              "      <td>0</td>\n",
              "      <td>0</td>\n",
              "    </tr>\n",
              "    <tr>\n",
              "      <th>3</th>\n",
              "      <td>255</td>\n",
              "      <td>255</td>\n",
              "      <td>255</td>\n",
              "      <td>255</td>\n",
              "      <td>255</td>\n",
              "      <td>255</td>\n",
              "      <td>255</td>\n",
              "      <td>255</td>\n",
              "      <td>255</td>\n",
              "      <td>255</td>\n",
              "      <td>...</td>\n",
              "      <td>0</td>\n",
              "      <td>0</td>\n",
              "      <td>0</td>\n",
              "      <td>0</td>\n",
              "      <td>0</td>\n",
              "      <td>0</td>\n",
              "      <td>0</td>\n",
              "      <td>0</td>\n",
              "      <td>0</td>\n",
              "      <td>0</td>\n",
              "    </tr>\n",
              "    <tr>\n",
              "      <th>4</th>\n",
              "      <td>255</td>\n",
              "      <td>255</td>\n",
              "      <td>255</td>\n",
              "      <td>255</td>\n",
              "      <td>255</td>\n",
              "      <td>255</td>\n",
              "      <td>255</td>\n",
              "      <td>255</td>\n",
              "      <td>255</td>\n",
              "      <td>255</td>\n",
              "      <td>...</td>\n",
              "      <td>0</td>\n",
              "      <td>0</td>\n",
              "      <td>0</td>\n",
              "      <td>0</td>\n",
              "      <td>0</td>\n",
              "      <td>0</td>\n",
              "      <td>0</td>\n",
              "      <td>0</td>\n",
              "      <td>0</td>\n",
              "      <td>0</td>\n",
              "    </tr>\n",
              "  </tbody>\n",
              "</table>\n",
              "<p>5 rows × 784 columns</p>\n",
              "</div>"
            ],
            "text/plain": [
              "     0    1    2    3    4    5    6    7    8    9  ...  774  775  776  777   \n",
              "0  255  255  255  255  255  255  255  255  255  255  ...    0    0    0    0  \\\n",
              "1  255  255  255  255  255  255  255  255  255  255  ...    0    0    0    0   \n",
              "2  255  255  255  255  255  255  255  255  255  255  ...    0    0    0    0   \n",
              "3  255  255  255  255  255  255  255  255  255  255  ...    0    0    0    0   \n",
              "4  255  255  255  255  255  255  255  255  255  255  ...    0    0    0    0   \n",
              "\n",
              "   778  779  780  781  782  783  \n",
              "0    0    0    0    0    0    0  \n",
              "1    0    0    0    0    0    0  \n",
              "2    0    0    0    0    0    0  \n",
              "3    0    0    0    0    0    0  \n",
              "4    0    0    0    0    0    0  \n",
              "\n",
              "[5 rows x 784 columns]"
            ]
          },
          "execution_count": 20,
          "metadata": {},
          "output_type": "execute_result"
        }
      ],
      "source": [
        "data.drop(data.columns[[784]],axis=1,inplace=True)\n",
        "data.head()"
      ]
    },
    {
      "cell_type": "code",
      "execution_count": 21,
      "metadata": {
        "colab": {
          "base_uri": "https://localhost:8080/",
          "height": 35
        },
        "id": "BYG8uDTcMous",
        "outputId": "13dc973d-682e-436e-c969-d44e2fed402b"
      },
      "outputs": [
        {
          "data": {
            "text/plain": [
              "'channels_last'"
            ]
          },
          "execution_count": 21,
          "metadata": {},
          "output_type": "execute_result"
        }
      ],
      "source": [
        "np.random.seed(1212)\n",
        "import keras\n",
        "from keras.models import Model\n",
        "from keras.layers import *\n",
        "from keras import optimizers\n",
        "from keras.layers import Input, Dense\n",
        "from keras.models import Sequential\n",
        "from keras.layers import Dense\n",
        "from keras.layers import Dropout\n",
        "from keras.layers import Flatten\n",
        "from keras.layers.convolutional import Conv2D\n",
        "from keras.layers.convolutional import MaxPooling2D\n",
        "from keras.utils import np_utils\n",
        "from keras import backend as K\n",
        "K.image_data_format()"
      ]
    },
    {
      "cell_type": "code",
      "execution_count": 22,
      "metadata": {
        "id": "EetfzqXnMta2"
      },
      "outputs": [],
      "source": [
        "labels=np.array(labels)"
      ]
    },
    {
      "cell_type": "code",
      "execution_count": 23,
      "metadata": {
        "id": "QPk_qXWqMvAh"
      },
      "outputs": [],
      "source": [
        "from keras.utils.np_utils import to_categorical\n",
        "cat=to_categorical(labels,num_classes=13)"
      ]
    },
    {
      "cell_type": "code",
      "execution_count": 24,
      "metadata": {
        "colab": {
          "base_uri": "https://localhost:8080/"
        },
        "id": "ynYO-NlnMvPh",
        "outputId": "7bd1eca4-11f5-472c-90b5-9f4cadc63d1e"
      },
      "outputs": [
        {
          "name": "stdout",
          "output_type": "stream",
          "text": [
            "[0. 0. 0. 0. 0. 0. 0. 0. 0. 0. 1. 0. 0.]\n"
          ]
        }
      ],
      "source": [
        "print(cat[0])"
      ]
    },
    {
      "cell_type": "code",
      "execution_count": 25,
      "metadata": {
        "colab": {
          "base_uri": "https://localhost:8080/",
          "height": 235
        },
        "id": "SCqO4j8kMwlx",
        "outputId": "77adf0b3-46d5-4d83-d8ae-d1c1a66c4f33"
      },
      "outputs": [
        {
          "data": {
            "text/html": [
              "<div>\n",
              "<style scoped>\n",
              "    .dataframe tbody tr th:only-of-type {\n",
              "        vertical-align: middle;\n",
              "    }\n",
              "\n",
              "    .dataframe tbody tr th {\n",
              "        vertical-align: top;\n",
              "    }\n",
              "\n",
              "    .dataframe thead th {\n",
              "        text-align: right;\n",
              "    }\n",
              "</style>\n",
              "<table border=\"1\" class=\"dataframe\">\n",
              "  <thead>\n",
              "    <tr style=\"text-align: right;\">\n",
              "      <th></th>\n",
              "      <th>0</th>\n",
              "      <th>1</th>\n",
              "      <th>2</th>\n",
              "      <th>3</th>\n",
              "      <th>4</th>\n",
              "      <th>5</th>\n",
              "      <th>6</th>\n",
              "      <th>7</th>\n",
              "      <th>8</th>\n",
              "      <th>9</th>\n",
              "      <th>...</th>\n",
              "      <th>774</th>\n",
              "      <th>775</th>\n",
              "      <th>776</th>\n",
              "      <th>777</th>\n",
              "      <th>778</th>\n",
              "      <th>779</th>\n",
              "      <th>780</th>\n",
              "      <th>781</th>\n",
              "      <th>782</th>\n",
              "      <th>783</th>\n",
              "    </tr>\n",
              "  </thead>\n",
              "  <tbody>\n",
              "    <tr>\n",
              "      <th>0</th>\n",
              "      <td>255</td>\n",
              "      <td>255</td>\n",
              "      <td>255</td>\n",
              "      <td>255</td>\n",
              "      <td>255</td>\n",
              "      <td>255</td>\n",
              "      <td>255</td>\n",
              "      <td>255</td>\n",
              "      <td>255</td>\n",
              "      <td>255</td>\n",
              "      <td>...</td>\n",
              "      <td>0</td>\n",
              "      <td>0</td>\n",
              "      <td>0</td>\n",
              "      <td>0</td>\n",
              "      <td>0</td>\n",
              "      <td>0</td>\n",
              "      <td>0</td>\n",
              "      <td>0</td>\n",
              "      <td>0</td>\n",
              "      <td>0</td>\n",
              "    </tr>\n",
              "    <tr>\n",
              "      <th>1</th>\n",
              "      <td>255</td>\n",
              "      <td>255</td>\n",
              "      <td>255</td>\n",
              "      <td>255</td>\n",
              "      <td>255</td>\n",
              "      <td>255</td>\n",
              "      <td>255</td>\n",
              "      <td>255</td>\n",
              "      <td>255</td>\n",
              "      <td>255</td>\n",
              "      <td>...</td>\n",
              "      <td>0</td>\n",
              "      <td>0</td>\n",
              "      <td>0</td>\n",
              "      <td>0</td>\n",
              "      <td>0</td>\n",
              "      <td>0</td>\n",
              "      <td>0</td>\n",
              "      <td>0</td>\n",
              "      <td>0</td>\n",
              "      <td>0</td>\n",
              "    </tr>\n",
              "    <tr>\n",
              "      <th>2</th>\n",
              "      <td>255</td>\n",
              "      <td>255</td>\n",
              "      <td>255</td>\n",
              "      <td>255</td>\n",
              "      <td>255</td>\n",
              "      <td>255</td>\n",
              "      <td>255</td>\n",
              "      <td>255</td>\n",
              "      <td>255</td>\n",
              "      <td>255</td>\n",
              "      <td>...</td>\n",
              "      <td>0</td>\n",
              "      <td>0</td>\n",
              "      <td>0</td>\n",
              "      <td>0</td>\n",
              "      <td>0</td>\n",
              "      <td>0</td>\n",
              "      <td>0</td>\n",
              "      <td>0</td>\n",
              "      <td>0</td>\n",
              "      <td>0</td>\n",
              "    </tr>\n",
              "    <tr>\n",
              "      <th>3</th>\n",
              "      <td>255</td>\n",
              "      <td>255</td>\n",
              "      <td>255</td>\n",
              "      <td>255</td>\n",
              "      <td>255</td>\n",
              "      <td>255</td>\n",
              "      <td>255</td>\n",
              "      <td>255</td>\n",
              "      <td>255</td>\n",
              "      <td>255</td>\n",
              "      <td>...</td>\n",
              "      <td>0</td>\n",
              "      <td>0</td>\n",
              "      <td>0</td>\n",
              "      <td>0</td>\n",
              "      <td>0</td>\n",
              "      <td>0</td>\n",
              "      <td>0</td>\n",
              "      <td>0</td>\n",
              "      <td>0</td>\n",
              "      <td>0</td>\n",
              "    </tr>\n",
              "    <tr>\n",
              "      <th>4</th>\n",
              "      <td>255</td>\n",
              "      <td>255</td>\n",
              "      <td>255</td>\n",
              "      <td>255</td>\n",
              "      <td>255</td>\n",
              "      <td>255</td>\n",
              "      <td>255</td>\n",
              "      <td>255</td>\n",
              "      <td>255</td>\n",
              "      <td>255</td>\n",
              "      <td>...</td>\n",
              "      <td>0</td>\n",
              "      <td>0</td>\n",
              "      <td>0</td>\n",
              "      <td>0</td>\n",
              "      <td>0</td>\n",
              "      <td>0</td>\n",
              "      <td>0</td>\n",
              "      <td>0</td>\n",
              "      <td>0</td>\n",
              "      <td>0</td>\n",
              "    </tr>\n",
              "  </tbody>\n",
              "</table>\n",
              "<p>5 rows × 784 columns</p>\n",
              "</div>"
            ],
            "text/plain": [
              "     0    1    2    3    4    5    6    7    8    9  ...  774  775  776  777   \n",
              "0  255  255  255  255  255  255  255  255  255  255  ...    0    0    0    0  \\\n",
              "1  255  255  255  255  255  255  255  255  255  255  ...    0    0    0    0   \n",
              "2  255  255  255  255  255  255  255  255  255  255  ...    0    0    0    0   \n",
              "3  255  255  255  255  255  255  255  255  255  255  ...    0    0    0    0   \n",
              "4  255  255  255  255  255  255  255  255  255  255  ...    0    0    0    0   \n",
              "\n",
              "   778  779  780  781  782  783  \n",
              "0    0    0    0    0    0    0  \n",
              "1    0    0    0    0    0    0  \n",
              "2    0    0    0    0    0    0  \n",
              "3    0    0    0    0    0    0  \n",
              "4    0    0    0    0    0    0  \n",
              "\n",
              "[5 rows x 784 columns]"
            ]
          },
          "execution_count": 25,
          "metadata": {},
          "output_type": "execute_result"
        }
      ],
      "source": [
        "data.head()"
      ]
    },
    {
      "cell_type": "code",
      "execution_count": 26,
      "metadata": {
        "colab": {
          "base_uri": "https://localhost:8080/"
        },
        "id": "sVBCX7t-MyQF",
        "outputId": "d282ca46-3d2e-4624-bba6-8ee901e92d8a"
      },
      "outputs": [
        {
          "data": {
            "text/plain": [
              "(179960, 784)"
            ]
          },
          "execution_count": 26,
          "metadata": {},
          "output_type": "execute_result"
        }
      ],
      "source": [
        "data.shape"
      ]
    },
    {
      "cell_type": "code",
      "execution_count": 27,
      "metadata": {
        "id": "Tgw6uYHyM2M9"
      },
      "outputs": [],
      "source": [
        "temp=data.to_numpy()"
      ]
    },
    {
      "cell_type": "code",
      "execution_count": 28,
      "metadata": {
        "id": "GVQqZwDOM39g"
      },
      "outputs": [],
      "source": [
        "X_train = temp.reshape(temp.shape[0], 28, 28, 1)"
      ]
    },
    {
      "cell_type": "code",
      "execution_count": 29,
      "metadata": {
        "colab": {
          "base_uri": "https://localhost:8080/"
        },
        "id": "9fQpspUzM5Gx",
        "outputId": "5ed80f6f-7d49-4441-d85f-e518a91b40a3"
      },
      "outputs": [
        {
          "data": {
            "text/plain": [
              "179960"
            ]
          },
          "execution_count": 29,
          "metadata": {},
          "output_type": "execute_result"
        }
      ],
      "source": [
        "temp.shape[0]"
      ]
    },
    {
      "cell_type": "code",
      "execution_count": 30,
      "metadata": {
        "colab": {
          "base_uri": "https://localhost:8080/"
        },
        "id": "fbpMiJtgM6ZG",
        "outputId": "614558d8-3efc-448e-f435-d5ead2f7e05c"
      },
      "outputs": [
        {
          "data": {
            "text/plain": [
              "(179960, 28, 28, 1)"
            ]
          },
          "execution_count": 30,
          "metadata": {},
          "output_type": "execute_result"
        }
      ],
      "source": [
        "X_train.shape"
      ]
    },
    {
      "cell_type": "code",
      "execution_count": 31,
      "metadata": {
        "id": "DeFkgzwgM8RL"
      },
      "outputs": [],
      "source": [
        "l=[]\n",
        "for i in range(14326):\n",
        "    l.append(np.array(data[i:i+1]).reshape(1,28,28))"
      ]
    },
    {
      "cell_type": "code",
      "execution_count": 32,
      "metadata": {
        "id": "a0JBblSSM9fE"
      },
      "outputs": [],
      "source": [
        "np.random.seed(7)"
      ]
    },
    {
      "cell_type": "code",
      "execution_count": 33,
      "metadata": {
        "colab": {
          "base_uri": "https://localhost:8080/"
        },
        "id": "5tDY2KV5M_3R",
        "outputId": "4667c6d2-1c7d-4cd0-c5bf-b95b40ceff50"
      },
      "outputs": [
        {
          "data": {
            "text/plain": [
              "1"
            ]
          },
          "execution_count": 33,
          "metadata": {},
          "output_type": "execute_result"
        }
      ],
      "source": [
        "len(l[0])"
      ]
    },
    {
      "cell_type": "code",
      "execution_count": 34,
      "metadata": {
        "colab": {
          "base_uri": "https://localhost:8080/"
        },
        "id": "hUMRjzNFNBC1",
        "outputId": "2ed5fa43-d914-4b40-ec74-b154fe51e04a"
      },
      "outputs": [
        {
          "data": {
            "text/plain": [
              "(179960, 28, 28, 1)"
            ]
          },
          "execution_count": 34,
          "metadata": {},
          "output_type": "execute_result"
        }
      ],
      "source": [
        "X_train.shape"
      ]
    },
    {
      "cell_type": "markdown",
      "metadata": {
        "id": "Q8_1OBxeV_FN"
      },
      "source": [
        "### Building the model"
      ]
    },
    {
      "cell_type": "code",
      "execution_count": 35,
      "metadata": {
        "id": "jZiLGW60NGaI"
      },
      "outputs": [],
      "source": [
        "model = Sequential()\n",
        "model.add(Conv2D(32, (3,3), input_shape=(28, 28,1), activation='relu',padding='same'))\n",
        "model.add(MaxPooling2D(pool_size=(2, 2)))\n",
        "model.add(Conv2D(15, (3, 3), activation='relu'))\n",
        "model.add(MaxPooling2D(pool_size=(2, 2)))\n",
        "model.add(Dropout(0.2))\n",
        "model.add(Flatten())\n",
        "model.add(Dense(128, activation='relu'))\n",
        "model.add(Dense(50, activation='relu'))\n",
        "model.add(Dense(13, activation='softmax'))\n",
        "# Compile model\n",
        "model.compile(loss='categorical_crossentropy', optimizer='adam', metrics=['accuracy'])"
      ]
    },
    {
      "cell_type": "markdown",
      "metadata": {
        "id": "iEArZ-oAWiRs"
      },
      "source": [
        "### Summary of the model"
      ]
    },
    {
      "cell_type": "code",
      "execution_count": 36,
      "metadata": {
        "colab": {
          "base_uri": "https://localhost:8080/"
        },
        "id": "CuRp9prNNUCf",
        "outputId": "c759759b-6e03-42f5-85e7-6234e31cf0bc"
      },
      "outputs": [
        {
          "name": "stdout",
          "output_type": "stream",
          "text": [
            "Model: \"sequential\"\n",
            "_________________________________________________________________\n",
            " Layer (type)                Output Shape              Param #   \n",
            "=================================================================\n",
            " conv2d (Conv2D)             (None, 28, 28, 32)        320       \n",
            "                                                                 \n",
            " max_pooling2d (MaxPooling2D  (None, 14, 14, 32)       0         \n",
            " )                                                               \n",
            "                                                                 \n",
            " conv2d_1 (Conv2D)           (None, 12, 12, 15)        4335      \n",
            "                                                                 \n",
            " max_pooling2d_1 (MaxPooling  (None, 6, 6, 15)         0         \n",
            " 2D)                                                             \n",
            "                                                                 \n",
            " dropout (Dropout)           (None, 6, 6, 15)          0         \n",
            "                                                                 \n",
            " flatten (Flatten)           (None, 540)               0         \n",
            "                                                                 \n",
            " dense (Dense)               (None, 128)               69248     \n",
            "                                                                 \n",
            " dense_1 (Dense)             (None, 50)                6450      \n",
            "                                                                 \n",
            " dense_2 (Dense)             (None, 13)                663       \n",
            "                                                                 \n",
            "=================================================================\n",
            "Total params: 81,016\n",
            "Trainable params: 81,016\n",
            "Non-trainable params: 0\n",
            "_________________________________________________________________\n"
          ]
        }
      ],
      "source": [
        "model.summary()"
      ]
    },
    {
      "cell_type": "markdown",
      "metadata": {
        "id": "jqImSNegWz-K"
      },
      "source": [
        "# Training the model"
      ]
    },
    {
      "cell_type": "code",
      "execution_count": 39,
      "metadata": {
        "colab": {
          "base_uri": "https://localhost:8080/"
        },
        "id": "iXBu5lv0NKzu",
        "outputId": "19f55a00-760f-4431-b70b-2114fbde15bb"
      },
      "outputs": [
        {
          "name": "stdout",
          "output_type": "stream",
          "text": [
            "Epoch 1/20\n",
            "900/900 [==============================] - 55s 57ms/step - loss: 0.4267 - accuracy: 0.8953\n",
            "Epoch 2/20\n",
            "900/900 [==============================] - 52s 58ms/step - loss: 0.0761 - accuracy: 0.9782\n",
            "Epoch 3/20\n",
            "900/900 [==============================] - 51s 56ms/step - loss: 0.0473 - accuracy: 0.9863\n",
            "Epoch 4/20\n",
            "900/900 [==============================] - 50s 56ms/step - loss: 0.0362 - accuracy: 0.9892\n",
            "Epoch 5/20\n",
            "900/900 [==============================] - 49s 55ms/step - loss: 0.0290 - accuracy: 0.9911\n",
            "Epoch 6/20\n",
            "900/900 [==============================] - 50s 56ms/step - loss: 0.0233 - accuracy: 0.9930\n",
            "Epoch 7/20\n",
            "900/900 [==============================] - 51s 57ms/step - loss: 0.0217 - accuracy: 0.9934\n",
            "Epoch 8/20\n",
            "900/900 [==============================] - 54s 60ms/step - loss: 0.0193 - accuracy: 0.9941\n",
            "Epoch 9/20\n",
            "900/900 [==============================] - 54s 60ms/step - loss: 0.0172 - accuracy: 0.9947\n",
            "Epoch 10/20\n",
            "900/900 [==============================] - 53s 59ms/step - loss: 0.0163 - accuracy: 0.9951\n",
            "Epoch 11/20\n",
            "900/900 [==============================] - 53s 59ms/step - loss: 0.0148 - accuracy: 0.9954\n",
            "Epoch 12/20\n",
            "900/900 [==============================] - 53s 59ms/step - loss: 0.0126 - accuracy: 0.9961\n",
            "Epoch 13/20\n",
            "900/900 [==============================] - 53s 59ms/step - loss: 0.0123 - accuracy: 0.9963\n",
            "Epoch 14/20\n",
            "900/900 [==============================] - 55s 61ms/step - loss: 0.0115 - accuracy: 0.9965\n",
            "Epoch 15/20\n",
            "900/900 [==============================] - 55s 61ms/step - loss: 0.0114 - accuracy: 0.9965\n",
            "Epoch 16/20\n",
            "900/900 [==============================] - 55s 61ms/step - loss: 0.0116 - accuracy: 0.9965\n",
            "Epoch 17/20\n",
            "900/900 [==============================] - 55s 61ms/step - loss: 0.0102 - accuracy: 0.9970\n",
            "Epoch 18/20\n",
            "900/900 [==============================] - 54s 60ms/step - loss: 0.0109 - accuracy: 0.9969\n",
            "Epoch 19/20\n",
            "900/900 [==============================] - 54s 60ms/step - loss: 0.0090 - accuracy: 0.9972\n",
            "Epoch 20/20\n",
            "900/900 [==============================] - 54s 60ms/step - loss: 0.0092 - accuracy: 0.9973\n"
          ]
        },
        {
          "data": {
            "text/plain": [
              "<keras.callbacks.History at 0x27120a4ba60>"
            ]
          },
          "execution_count": 39,
          "metadata": {},
          "output_type": "execute_result"
        }
      ],
      "source": [
        "model.fit(X_train, cat, epochs=20, batch_size=200,shuffle=True,verbose=1)"
      ]
    },
    {
      "cell_type": "markdown",
      "metadata": {
        "id": "W4msa8PJW5F_"
      },
      "source": [
        "### Saving the model"
      ]
    },
    {
      "cell_type": "code",
      "execution_count": 40,
      "metadata": {
        "colab": {
          "base_uri": "https://localhost:8080/"
        },
        "id": "ynucBIzoNMz8",
        "outputId": "5e721110-ad86-441a-ea52-6525b2994328"
      },
      "outputs": [],
      "source": [
        "import pickle\n",
        "pickle.dump(model, open('model.pkl', 'wb'))\n",
        "model.save_weights(\"model_final.h5\")"
      ]
    },
    {
      "cell_type": "markdown",
      "metadata": {
        "id": "rvvskbG1W6-j"
      },
      "source": [
        "# Testing the model"
      ]
    },
    {
      "cell_type": "code",
      "execution_count": 55,
      "metadata": {
        "id": "1m_POmliPb2n"
      },
      "outputs": [],
      "source": [
        "import cv2\n",
        "import numpy as np\n",
        "img = cv2.imread('test.jpeg',cv2.IMREAD_GRAYSCALE)"
      ]
    },
    {
      "cell_type": "code",
      "execution_count": 64,
      "metadata": {
        "colab": {
          "base_uri": "https://localhost:8080/"
        },
        "id": "ku4cFvaWRy3O",
        "outputId": "50d11a36-a033-48c8-817e-4586f875601b"
      },
      "outputs": [],
      "source": [
        "if img is not None:\n",
        "    #images.append(img)\n",
        "    img=~img\n",
        "    ret,thresh=cv2.threshold(img,127,255,cv2.THRESH_BINARY)\n",
        "    ctrs,ret=cv2.findContours(thresh,cv2.RETR_TREE,cv2.CHAIN_APPROX_SIMPLE)\n",
        "    cnt=sorted(ctrs, key=lambda ctr: cv2.boundingRect(ctr)[0])\n",
        "    w=int(28)\n",
        "    h=int(28)\n",
        "    train_data=[]\n",
        "    #print(len(cnt))\n",
        "    rects=[]\n",
        "    for c in cnt :\n",
        "        x,y,w,h= cv2.boundingRect(c)\n",
        "        rect=[x,y,w,h]\n",
        "        rects.append(rect)\n",
        "    #print(rects)\n",
        "    bool_rect=[]\n",
        "    for r in rects:\n",
        "        l=[]\n",
        "        for rec in rects:\n",
        "            flag=0\n",
        "            if rec!=r:\n",
        "                if r[0]<(rec[0]+rec[2]+10) and rec[0]<(r[0]+r[2]+10) and r[1]<(rec[1]+rec[3]+10) and rec[1]<(r[1]+r[3]+10):\n",
        "                    flag=1\n",
        "                l.append(flag)\n",
        "            if rec==r:\n",
        "                l.append(0)\n",
        "        bool_rect.append(l)\n",
        "    #print(bool_rect)\n",
        "    dump_rect=[]\n",
        "    for i in range(0,len(cnt)):\n",
        "        for j in range(0,len(cnt)):\n",
        "            if bool_rect[i][j]==1:\n",
        "                area1=rects[i][2]*rects[i][3]\n",
        "                area2=rects[j][2]*rects[j][3]\n",
        "                if(area1==min(area1,area2)):\n",
        "                    dump_rect.append(rects[i])\n",
        "    #print(len(dump_rect)) \n",
        "    final_rect=[i for i in rects if i not in dump_rect]\n",
        "    #print(final_rect)\n",
        "    for r in final_rect:\n",
        "        x=r[0]\n",
        "        y=r[1]\n",
        "        w=r[2]\n",
        "        h=r[3]\n",
        "        im_crop =thresh[y:y+h+10,x:x+w+10]\n",
        "        \n",
        "\n",
        "        im_resize = cv2.resize(im_crop,(28,28))\n",
        "        cv2.imshow(\"work\",im_resize)\n",
        "        cv2.waitKey(0)\n",
        "        cv2.destroyAllWindows()\n",
        "\n",
        "        im_resize=np.reshape(im_resize,(1,28,28))\n",
        "        train_data.append(im_resize)"
      ]
    },
    {
      "cell_type": "code",
      "execution_count": 65,
      "metadata": {},
      "outputs": [
        {
          "data": {
            "text/plain": [
              "[array([[[  0,  82, 255, 255, 255, 255, 255, 255, 255, 255, 255, 255,\n",
              "          255, 255, 255, 255, 255, 255, 255, 209,   0,   0,   0,   0,\n",
              "            0,   0,   0,   0],\n",
              "         [  0,  82, 255, 255, 255, 255, 255, 255, 255, 255, 255, 255,\n",
              "          255, 255, 255, 255, 255, 255, 255, 209,   0,   0,   0,   0,\n",
              "            0,   0,   0,   0],\n",
              "         [  0,  82, 255, 255, 255, 255, 255, 255, 255, 255, 255, 255,\n",
              "          255, 255, 255, 255, 255, 255, 255, 209,   0,   0,   0,   0,\n",
              "            0,   0,   0,   0],\n",
              "         [  0,  82, 255, 255, 255, 255, 255, 255, 255, 255, 255, 255,\n",
              "          255, 255, 255, 255, 255, 255, 255, 209,   0,   0,   0,   0,\n",
              "            0,   0,   0,   0],\n",
              "         [  0,  82, 255, 255, 255, 255, 255, 255, 255, 255, 255, 255,\n",
              "          255, 255, 255, 255, 255, 255, 255, 209,   0,   0,   0,   0,\n",
              "            0,   0,   0,   0],\n",
              "         [  0,  82, 255, 255, 255, 255, 255, 255, 255, 255, 255, 255,\n",
              "          255, 255, 255, 255, 255, 255, 255, 209,   0,   0,   0,   0,\n",
              "            0,   0,   0,   0],\n",
              "         [  0,  82, 255, 255, 255, 255, 255, 255, 255, 255, 255, 255,\n",
              "          255, 255, 255, 255, 255, 255, 255, 209,   0,   0,   0,   0,\n",
              "            0,   0,   0,   0],\n",
              "         [  0,  82, 255, 255, 255, 255, 255, 255, 255, 255, 255, 255,\n",
              "          255, 255, 255, 255, 255, 255, 255, 209,   0,   0,   0,   0,\n",
              "            0,   0,   0,   0],\n",
              "         [  0,  82, 255, 255, 255, 255, 255, 255, 255, 255, 255, 255,\n",
              "          255, 255, 255, 255, 255, 255, 255,   0,   0,   0,   0,   0,\n",
              "            0,   0,   0,   0],\n",
              "         [ 13, 162, 255, 255, 255, 255, 255, 255, 255, 255, 255, 255,\n",
              "          255, 255, 255, 255, 255, 255, 255,   0,   0,   0,   0,   0,\n",
              "            0,   0,   0,   0],\n",
              "         [ 27, 255, 255, 255, 255, 255, 255, 255, 255, 255, 255, 255,\n",
              "          255, 255, 255, 255, 255, 255, 255,   0,   0,   0,   0,   0,\n",
              "            0,   0,   0,   0],\n",
              "         [ 27, 255, 255, 255, 255, 255, 255, 255, 255, 255, 255, 255,\n",
              "          255, 255, 255, 255, 255, 255, 255,   0,   0,   0,   0,   0,\n",
              "            0,   0,   0,   0],\n",
              "         [ 27, 255, 255, 255, 255, 255, 255, 255, 255, 255, 255, 255,\n",
              "          255, 255, 255, 255, 255, 255, 255,   0,   0,   0,   0,   0,\n",
              "            0,   0,   0,   0],\n",
              "         [ 27, 255, 255, 255, 255, 255, 255, 255, 255, 255, 255, 255,\n",
              "          255, 255, 255, 255, 255, 255, 255,   0,   0,   0,   0,   0,\n",
              "            0,   0,   0,   0],\n",
              "         [ 27, 255, 255, 255, 255, 255, 255, 255, 255, 255, 255, 255,\n",
              "          255, 255, 255, 255, 255, 255, 255,   0,   0,   0,   0,   0,\n",
              "            0,   0,   0,   0],\n",
              "         [ 27, 255, 255, 255, 255, 255, 255, 255, 255, 255, 255, 255,\n",
              "          255, 255, 255, 255, 255, 255,   9,   0,   0,   0,   0,   0,\n",
              "            0,   0,   0,   0],\n",
              "         [255, 255, 255, 255, 255, 255, 255, 255, 255, 255, 255, 255,\n",
              "          255, 255, 255, 255, 255, 255,   9,   0,   0,   0,   0,   0,\n",
              "            0,   0,   0,   0],\n",
              "         [255, 255, 255, 255, 255, 255, 255, 255, 255, 255, 255, 255,\n",
              "          255, 255, 255, 255, 255, 255,   9,   0,   0,   0,   0,   0,\n",
              "            0,   0,   0,   0],\n",
              "         [255, 255, 255, 255, 255, 255, 255, 255, 255, 255, 255, 255,\n",
              "          255, 255, 255, 255, 255, 255,   9,   0,   0,   0,   0,   0,\n",
              "            0,   0,   0,   0],\n",
              "         [255, 255, 255, 255, 255, 255, 255, 255, 255, 255, 255, 255,\n",
              "          255, 255, 255, 255, 255, 255,   9,   0,   0,   0,   0,   0,\n",
              "            0,   0,   0,   0],\n",
              "         [255, 255, 255, 255, 255, 255, 255, 255, 255, 255, 255, 255,\n",
              "          255, 255, 255, 255, 255, 255,   9,   0,   0,   0,   0,   0,\n",
              "            0,   0,   0,   0],\n",
              "         [255, 255, 255, 255, 255, 255, 255, 255, 255, 255, 255, 255,\n",
              "          255, 255, 255, 255, 255, 255,   9,   0,   0,   0,   0,   0,\n",
              "            0,   0,   0,   0],\n",
              "         [255, 255, 255, 255, 255, 255, 255, 255, 255, 255, 255, 255,\n",
              "          255, 255, 255, 255, 255, 255,   9,   0,   0,   0,   0,   0,\n",
              "            0,   0,   0,   0],\n",
              "         [255, 255, 255, 255, 255, 255, 255, 255, 255, 255, 255, 255,\n",
              "          255, 255, 255, 255, 255, 255,   9,   0,   0,   0,   0,   0,\n",
              "            0,   0,   0,   0],\n",
              "         [255, 255, 255, 255, 255, 255, 255, 255, 255, 255, 255, 255,\n",
              "          255, 255, 255, 255, 255, 255,   9,   0,   0,   0,   0,   0,\n",
              "            0,   0,   0,   0],\n",
              "         [255, 255, 255, 255, 255, 255, 255, 255, 255, 255, 255, 255,\n",
              "          255, 255, 255, 255, 255, 255,   9,   0,   0,   0,   0,   0,\n",
              "            0,   0,   0,   0],\n",
              "         [255, 255, 255, 255, 255, 255, 255, 255, 255, 255, 255, 255,\n",
              "          255, 255, 255, 255, 255, 255,   9,   0,   0,   0,   0,   0,\n",
              "            0,   0,   0,   0],\n",
              "         [  0,   0,   0,   0,   0,   0,   0,   0,   0,   0,   0,   0,\n",
              "            0,   0,   0,   0,   0,   0,   0,   0,   0,   0,   0,   0,\n",
              "            0,   0,   0,   0]]], dtype=uint8),\n",
              " array([[[  0, 255, 255, 255, 255, 255, 255, 146,   0,   0,   0,   0,\n",
              "            0,   0,   0,   0,   0,   0,   0,   0,   0,   0,   0,   0,\n",
              "            0,   0,   0,   0],\n",
              "         [  0, 255, 255, 255, 255, 255, 255, 255, 255, 255, 255, 255,\n",
              "          255, 182,   0,   0,   0,   0,   0,   0,   0,   0,   0,   0,\n",
              "            0,   0,   0,   0],\n",
              "         [  0,   0,   0,   0,   0,  36, 181, 255, 255, 255, 255, 255,\n",
              "          255, 255, 255, 255, 255,   0,   0,   0,   0,   0,   0,   0,\n",
              "            0,   0,   0,   0],\n",
              "         [  0,   0,   0,   0,   0,   0,   0,   0,   0,   0,   0,   0,\n",
              "            0, 255, 255, 255, 255, 255, 255,   0,   0,   0,   0,   0,\n",
              "            0,   0,   0,   0],\n",
              "         [  0,   0,   0,   0,   0,   0,   0,   0,   0,   0,   0,   0,\n",
              "            0,   0,   0,   0, 235, 255, 255, 255,   0,   0,   0,   0,\n",
              "            0,   0,   0,   0],\n",
              "         [  0,   0,   0,   0,   0,   0,   0,   0,   0,   0,   0,   0,\n",
              "            0,   0,   0,   0,   0,   0, 255, 255, 255,   0,   0,   0,\n",
              "            0,   0,   0,   0],\n",
              "         [  0,   0,   0,   0,   0,   0,   0,   0,   0,   0,   0,   0,\n",
              "            0,   0,   0,   0,   0,   0, 255, 255, 255,   0,   0,   0,\n",
              "            0,   0,   0,   0],\n",
              "         [  0,   0,   0,   0,   0,   0,   0,   0,   0,   0,   0,   0,\n",
              "            0,   0,   0,   0,   0,   0, 255, 255, 214,   0,   0,   0,\n",
              "            0,   0,   0,   0],\n",
              "         [  0,   0,   0,   0,   0,   0,   0,   0,   0,   0,   0,   0,\n",
              "            0,   0,   0,   0,   0, 255, 255, 255,   0,   0,   0,   0,\n",
              "            0,   0,   0,   0],\n",
              "         [  0,   0,   0,   0,   0,   0,   0,   0,   0,   0,   0,   0,\n",
              "            0,   0,   0,   0, 255, 255, 255,   0,   0,   0,   0,   0,\n",
              "            0,   0,   0,   0],\n",
              "         [  0,   0,   0,   0,   0,   0,   0,   0,   0,   0,   0,   0,\n",
              "            0,   0,   0, 255, 255, 255, 255,   0,   0,   0,   0,   0,\n",
              "            0,   0,   0,   0],\n",
              "         [  0,   0,   0,   0,   0,   0,   0,   0,   0,   0,   0,   0,\n",
              "            0,   0, 255, 255, 255, 255,   0,   0,   0,   0,   0,   0,\n",
              "            0,   0,   0,   0],\n",
              "         [  0,   0,   0,   0,   0,   0,   0,   0,   0,   0,   0,   0,\n",
              "            0,   0, 255, 255, 255,   0,   0,   0,   0,   0,   0,   0,\n",
              "            0,   0,   0,   0],\n",
              "         [  0,   0,   0,   0,   0,   0,   0,   0,   0,   0,   0,   0,\n",
              "           80, 255, 255, 255,   0,   0,   0,   0,   0,   0,   0,   0,\n",
              "            0,   0,   0,   0],\n",
              "         [  0,   0,   0,   0,   0,   0,   0,   0,   0,   0,   0,   0,\n",
              "          255, 255, 255,   0,   0,   0,   0,   0,   0,   0,   0,   0,\n",
              "            0,   0,   0,   0],\n",
              "         [  0,   0,   0,   0,   0,   0,   0,   0,   0,   0,   0, 255,\n",
              "          255, 255,   0,   0,   0,   0,   0,   0,   0,   0,   0,   0,\n",
              "            0,   0,   0,   0],\n",
              "         [  0,   0,   0,   0,   0,   0,   0,   0,   0,  43, 255, 255,\n",
              "          255,   0,   0,   0,   0,   0,   0,   0,   0,   0,   0,   0,\n",
              "            0,   0,   0,   0],\n",
              "         [  0,   0,   0,   0,   0,   0,   0,   0, 255, 255, 255, 255,\n",
              "            0,   0,   0,   0,   0,   0,   0,   0,   0,   0,   0,   0,\n",
              "            0,   0,   0,   0],\n",
              "         [  0,   0,   0,   0,   0,   0,   0,  36, 255, 255, 255,   0,\n",
              "            0,   0,   0,   0,   0,   0,   0,   0,   0,   0,   0,   0,\n",
              "            0,   0,   0,   0],\n",
              "         [  0,   0,   0,   0,   0,   0, 193, 255, 255, 255,   0,   0,\n",
              "            0,   0,   0,   0,   0,   0,   0,   0,   0,   0,   0,   0,\n",
              "            0,   0,   0,   0],\n",
              "         [  0,   0,   0,   0,   0, 255, 255, 255, 255,   0,   0,   0,\n",
              "            0,   0,   0,   0,   0,   0,   0,   0,   0,   0,   0,   0,\n",
              "            0,   0,   0,   0],\n",
              "         [  0,   0,   0,   0, 255, 255, 255, 255,   0,   0,   0,   0,\n",
              "            0,   0,   0,   0,   0,   0,   0,   0,   0,   0,   0,   0,\n",
              "            0,   0,   0,   0],\n",
              "         [  0,   0,   0, 255, 255, 255, 135,   0,   0,   0,   0,   0,\n",
              "            0,   0,   0,   0,   0,   0,   0,   0,   0,   0,   0,   0,\n",
              "            0,   0,   0,   0],\n",
              "         [  0,   0, 255, 255, 255, 132,   0,   0,   0,   0,   0,   0,\n",
              "            0,   0,   0,   0,   0,   0,   0,   0,   0,   0,   0,   0,\n",
              "            0,   0,   0,   0],\n",
              "         [  0, 255, 255, 255,   0,   0,   0,   0,   0,   0,   0,   0,\n",
              "            0,   0,   0,   0,   0,   0,   0,   0,   0,   0,   0,   0,\n",
              "            0,   0,   0,   0],\n",
              "         [240, 255, 255, 255, 255, 255, 255, 255, 255, 255, 255, 255,\n",
              "          255, 255, 255, 255, 255, 255, 255, 255, 255, 255, 255, 255,\n",
              "          255, 255, 255,   0],\n",
              "         [  0, 255, 255, 255, 255, 255, 255, 255, 255, 255, 255, 255,\n",
              "          255, 255, 255, 255, 255, 255, 255, 255, 255, 255, 255, 255,\n",
              "          255, 255, 255,   0],\n",
              "         [  0,   0,   0,   0,   0,   0,   0,   0,   0,   0,   0,   0,\n",
              "            0,   0,   0,   0,   0,   0,   0,   0,   0,   0,   0,   0,\n",
              "            0,   0,   0,   0]]], dtype=uint8),\n",
              " array([[[  0,   0,   0,   0,   0,   0,   0,   0,   0,   0,   0, 255,\n",
              "          255, 255,   0,   0,   0,   0,   0,   0,   0,   0,   0,   0,\n",
              "            0,   0,   0,   0],\n",
              "         [  0,   0,   0,   0,   0,   0,   0,   0,   0,   0,   0, 255,\n",
              "          255, 255,   0,   0,   0,   0,   0,   0,   0,   0,   0,   0,\n",
              "            0,   0,   0,   0],\n",
              "         [  0,   0,   0,   0,   0,   0,   0,   0,   0,   0,   0, 255,\n",
              "          255, 255,   0,   0,   0,   0,   0,   0,   0,   0,   0,   0,\n",
              "            0,   0,   0,   0],\n",
              "         [  0,   0,   0,   0,   0,   0,   0,   0,   0,   0,   0, 255,\n",
              "          255, 255,   0,   0,   0,   0,   0,   0,   0,   0,   0,   0,\n",
              "            0,   0,   0,   0],\n",
              "         [  0,   0,   0,   0,   0,   0,   0,   0,   0,   0,   0, 255,\n",
              "          255, 255,   0,   0,   0,   0,   0,   0,   0,   0,   0,   0,\n",
              "            0,   0,   0,   0],\n",
              "         [  0,   0,   0,   0,   0,   0,   0,   0,   0,   0,   0, 255,\n",
              "          255, 255,   0,   0,   0,   0,   0,   0,   0,   0,   0,   0,\n",
              "            0,   0,   0,   0],\n",
              "         [  0,   0,   0,   0,   0,   0,   0,   0,   0,   0,   0, 255,\n",
              "          255, 255,   0,   0,   0,   0,   0,   0,   0,   0,   0,   0,\n",
              "            0,   0,   0,   0],\n",
              "         [  0,   0,   0,   0,   0,   0,   0,   0,   0,   0,   0, 255,\n",
              "          255, 255,   0,   0,   0,   0,   0,   0,   0,   0,   0,   0,\n",
              "            0,   0,   0,   0],\n",
              "         [  0,   0,   0,   0,   0,   0,   0,   0,   0,   0,   0, 255,\n",
              "          255, 255,   0,   0,   0,   0,   0,   0,   0,   0,   0,   0,\n",
              "            0,   0,   0,   0],\n",
              "         [  0,   0,   0,   0,   0,   0,   0,   0,   0,   0,   0, 255,\n",
              "          255, 255,   0,   0,   0,   0,   0,   0,   0,   0,   0,   0,\n",
              "            0,   0,   0,   0],\n",
              "         [  0,   0,   0,   0,   0,   0,   0,   0,   0,   0,   0, 255,\n",
              "          255, 255,   0,   0,   0,   0,   0,   0,   0,   0,   0,   0,\n",
              "            0,   0,   0,   0],\n",
              "         [255, 255, 255, 255, 255, 255, 255, 255, 255, 255, 255, 255,\n",
              "          255, 255, 255, 255, 255, 255, 255, 255, 255, 255, 255, 255,\n",
              "          255, 255, 255,   0],\n",
              "         [255, 255, 255, 255, 255, 255, 255, 255, 255, 255, 255, 255,\n",
              "          255, 255, 255, 255, 255, 255, 255, 255, 255, 255, 255, 255,\n",
              "          255, 255, 255,   0],\n",
              "         [255, 255, 255, 255, 255, 255, 255, 255, 255, 255, 255, 255,\n",
              "          255, 255, 255, 255, 255, 255, 255, 255, 255, 255, 255, 255,\n",
              "          255, 255, 255,   0],\n",
              "         [  0,   0,   0,   0,   0,   0,   0,   0,   0,   0,   0,  55,\n",
              "          255, 255,   0,   0,   0,   0,   0,   0,   0,   0,   0,   0,\n",
              "            0,   0,   0,   0],\n",
              "         [  0,   0,   0,   0,   0,   0,   0,   0,   0,   0,   0,  55,\n",
              "          255, 255,   0,   0,   0,   0,   0,   0,   0,   0,   0,   0,\n",
              "            0,   0,   0,   0],\n",
              "         [  0,   0,   0,   0,   0,   0,   0,   0,   0,   0,   0,  54,\n",
              "          255, 255,   0,   0,   0,   0,   0,   0,   0,   0,   0,   0,\n",
              "            0,   0,   0,   0],\n",
              "         [  0,   0,   0,   0,   0,   0,   0,   0,   0,   0,   0,  55,\n",
              "          255, 255,   0,   0,   0,   0,   0,   0,   0,   0,   0,   0,\n",
              "            0,   0,   0,   0],\n",
              "         [  0,   0,   0,   0,   0,   0,   0,   0,   0,   0,   0,  54,\n",
              "          255, 255,   0,   0,   0,   0,   0,   0,   0,   0,   0,   0,\n",
              "            0,   0,   0,   0],\n",
              "         [  0,   0,   0,   0,   0,   0,   0,   0,   0,   0,   0,  55,\n",
              "          255, 255,   0,   0,   0,   0,   0,   0,   0,   0,   0,   0,\n",
              "            0,   0,   0,   0],\n",
              "         [  0,   0,   0,   0,   0,   0,   0,   0,   0,   0,   0,  55,\n",
              "          255, 255,   0,   0,   0,   0,   0,   0,   0,   0,   0,   0,\n",
              "            0,   0,   0,   0],\n",
              "         [  0,   0,   0,   0,   0,   0,   0,   0,   0,   0,   0,  55,\n",
              "          255, 255,   0,   0,   0,   0,   0,   0,   0,   0,   0,   0,\n",
              "            0,   0,   0,   0],\n",
              "         [  0,   0,   0,   0,   0,   0,   0,   0,   0,   0,   0,  55,\n",
              "          255, 255,   0,   0,   0,   0,   0,   0,   0,   0,   0,   0,\n",
              "            0,   0,   0,   0],\n",
              "         [  0,   0,   0,   0,   0,   0,   0,   0,   0,   0,   0,  54,\n",
              "          255, 255,   0,   0,   0,   0,   0,   0,   0,   0,   0,   0,\n",
              "            0,   0,   0,   0],\n",
              "         [  0,   0,   0,   0,   0,   0,   0,   0,   0,   0,   0,  55,\n",
              "          255, 255,   0,   0,   0,   0,   0,   0,   0,   0,   0,   0,\n",
              "            0,   0,   0,   0],\n",
              "         [  0,   0,   0,   0,   0,   0,   0,   0,   0,   0,   0,  54,\n",
              "          255, 255,   0,   0,   0,   0,   0,   0,   0,   0,   0,   0,\n",
              "            0,   0,   0,   0],\n",
              "         [  0,   0,   0,   0,   0,   0,   0,   0,   0,   0,   0,   0,\n",
              "            0,   0,   0,   0,   0,   0,   0,   0,   0,   0,   0,   0,\n",
              "            0,   0,   0,   0],\n",
              "         [  0,   0,   0,   0,   0,   0,   0,   0,   0,   0,   0,   0,\n",
              "            0,   0,   0,   0,   0,   0,   0,   0,   0,   0,   0,   0,\n",
              "            0,   0,   0,   0]]], dtype=uint8),\n",
              " array([[[255, 255, 255, 255, 255, 255, 255, 255, 255, 255, 255, 255,\n",
              "          255, 255, 255, 255, 255, 255, 255,  55,   0,   0,   0,   0,\n",
              "            0,   0,   0,   0],\n",
              "         [255, 255, 255, 255, 255, 255, 255, 255, 255, 255, 255, 255,\n",
              "          255, 255, 255, 255, 255, 255, 255,  54,   0,   0,   0,   0,\n",
              "            0,   0,   0,   0],\n",
              "         [255, 255, 255, 255, 255, 255, 255, 255, 255, 255, 255, 255,\n",
              "          255, 255, 255, 255, 255, 255, 255,  55,   0,   0,   0,   0,\n",
              "            0,   0,   0,   0],\n",
              "         [255, 255, 255, 255, 255, 255, 255, 255, 255, 255, 255, 255,\n",
              "          255, 255, 255, 255, 255, 255, 255,  54,   0,   0,   0,   0,\n",
              "            0,   0,   0,   0],\n",
              "         [255, 255, 255, 255, 255, 255, 255, 255, 255, 255, 255, 255,\n",
              "          255, 255, 255, 255, 255, 255, 255,  55,   0,   0,   0,   0,\n",
              "            0,   0,   0,   0],\n",
              "         [255, 255, 255, 255, 255, 255, 255, 255, 255, 255, 255, 255,\n",
              "          255, 255, 255, 255, 255, 255, 255,  55,   0,   0,   0,   0,\n",
              "            0,   0,   0,   0],\n",
              "         [255, 255, 255, 255, 255, 255, 255, 255, 255, 255, 255, 255,\n",
              "          255, 255, 255, 255, 255, 255, 255,  54,   0,   0,   0,   0,\n",
              "            0,   0,   0,   0],\n",
              "         [255, 255, 255, 255, 255, 255, 255, 255, 255, 255, 255, 255,\n",
              "          255, 255, 255, 255, 255, 255, 255,  54,   0,   0,   0,   0,\n",
              "            0,   0,   0,   0],\n",
              "         [255, 255, 255, 255, 255, 255, 255, 255, 255, 255, 255, 255,\n",
              "          255, 255, 255, 255, 255, 255, 255,  55,   0,   0,   0,   0,\n",
              "            0,   0,   0,   0],\n",
              "         [255, 255, 255, 255, 255, 255, 255, 255, 255, 255, 255, 255,\n",
              "          255, 255, 255, 255, 255, 255, 255,  55,   0,   0,   0,   0,\n",
              "            0,   0,   0,   0],\n",
              "         [255, 255, 255, 255, 255, 255, 255, 255, 255, 255, 255, 255,\n",
              "          255, 255, 255, 255, 255, 255, 255,  54,   0,   0,   0,   0,\n",
              "            0,   0,   0,   0],\n",
              "         [255, 255, 255, 255, 255, 255, 255, 255, 255, 255, 255, 255,\n",
              "          255, 255, 255, 255, 255, 255, 255,  55,   0,   0,   0,   0,\n",
              "            0,   0,   0,   0],\n",
              "         [255, 255, 255, 255, 255, 255, 255, 255, 255, 255, 255, 255,\n",
              "          255, 255, 255, 255, 255, 255, 255,  54,   0,   0,   0,   0,\n",
              "            0,   0,   0,   0],\n",
              "         [255, 255, 255, 255, 255, 255, 255, 255, 255, 255, 255, 255,\n",
              "          255, 255, 255, 255, 255, 255, 255,  55,   0,   0,   0,   0,\n",
              "            0,   0,   0,   0],\n",
              "         [255, 255, 255, 255, 255, 255, 255, 255, 255, 255, 255, 255,\n",
              "          255, 255, 255, 255, 255, 255, 255,  55,   0,   0,   0,   0,\n",
              "            0,   0,   0,   0],\n",
              "         [255, 255, 255, 255, 255, 255, 255, 255, 255, 255, 255, 255,\n",
              "          255, 255, 255, 255, 255, 255, 255,  54,   0,   0,   0,   0,\n",
              "            0,   0,   0,   0],\n",
              "         [255, 255, 255, 255, 255, 255, 255, 255, 255, 255, 255, 255,\n",
              "          255, 255, 255, 255, 255, 255, 255,  55,   0,   0,   0,   0,\n",
              "            0,   0,   0,   0],\n",
              "         [255, 255, 255, 255, 255, 255, 255, 255, 255, 255, 255, 255,\n",
              "          255, 255, 255, 255, 255, 255, 255,  54,   0,   0,   0,   0,\n",
              "            0,   0,   0,   0],\n",
              "         [255, 255, 255, 255, 255, 255, 255, 255, 255, 255, 255, 255,\n",
              "          255, 255, 255, 255, 255, 255, 255,  55,   0,   0,   0,   0,\n",
              "            0,   0,   0,   0],\n",
              "         [255, 255, 255, 255, 255, 255, 255, 255, 255, 255, 255, 255,\n",
              "          255, 255, 255, 255, 255, 255, 255,  55,   0,   0,   0,   0,\n",
              "            0,   0,   0,   0],\n",
              "         [255, 255, 255, 255, 255, 255, 255, 255, 255, 255, 255, 255,\n",
              "          255, 255, 255, 255, 255, 255, 255,  54,   0,   0,   0,   0,\n",
              "            0,   0,   0,   0],\n",
              "         [255, 255, 255, 255, 255, 255, 255, 255, 255, 255, 255, 255,\n",
              "          255, 255, 255, 255, 255, 255, 255,  54,   0,   0,   0,   0,\n",
              "            0,   0,   0,   0],\n",
              "         [255, 255, 255, 255, 255, 255, 255, 255, 255, 255, 255, 255,\n",
              "          255, 255, 255, 255, 255, 255, 255,  55,   0,   0,   0,   0,\n",
              "            0,   0,   0,   0],\n",
              "         [255, 255, 255, 255, 255, 255, 255, 255, 255, 255, 255, 255,\n",
              "          255, 255, 255, 255, 255, 255, 255,  55,   0,   0,   0,   0,\n",
              "            0,   0,   0,   0],\n",
              "         [255, 255, 255, 255, 255, 255, 255, 255, 255, 255, 255, 255,\n",
              "          255, 255, 255, 255, 255, 255, 255,  54,   0,   0,   0,   0,\n",
              "            0,   0,   0,   0],\n",
              "         [255, 255, 255, 255, 255, 255, 255, 255, 255, 255, 255, 255,\n",
              "          255, 255, 255, 255, 255, 255, 255,  55,   0,   0,   0,   0,\n",
              "            0,   0,   0,   0],\n",
              "         [255, 255, 255, 255, 255, 255, 255, 255, 255, 255, 255, 255,\n",
              "          255, 255, 255, 255, 255, 255, 255,  54,   0,   0,   0,   0,\n",
              "            0,   0,   0,   0],\n",
              "         [  0,   0,   0,   0,   0,   0,   0,   0,   0,   0,   0,   0,\n",
              "            0,   0,   0,   0,   0,   0,   0,   0,   0,   0,   0,   0,\n",
              "            0,   0,   0,   0]]], dtype=uint8)]"
            ]
          },
          "execution_count": 65,
          "metadata": {},
          "output_type": "execute_result"
        }
      ],
      "source": [
        "train_data"
      ]
    },
    {
      "cell_type": "code",
      "execution_count": 66,
      "metadata": {
        "colab": {
          "base_uri": "https://localhost:8080/"
        },
        "id": "B_lT8S5WS7IV",
        "outputId": "8a3f0bca-28fc-4f8a-893c-6629db655bb5"
      },
      "outputs": [
        {
          "name": "stdout",
          "output_type": "stream",
          "text": [
            "1/1 [==============================] - 0s 22ms/step\n",
            "1/1 [==============================] - 0s 21ms/step\n",
            "1/1 [==============================] - 0s 22ms/step\n",
            "1/1 [==============================] - 0s 22ms/step\n",
            "82+8\n"
          ]
        }
      ],
      "source": [
        "equation=''\n",
        "for i in range(len(train_data)):\n",
        "    train_data[i]=np.array(train_data[i])\n",
        "    train_data[i]=train_data[i].reshape(1,28,28,1)\n",
        "    result=np.argmax(model.predict(train_data[i]), axis=-1)\n",
        "    if(result[0]==10):\n",
        "        equation = equation +'-'\n",
        "    if(result[0]==11):\n",
        "        equation = equation +'+'\n",
        "    if(result[0]==12):\n",
        "        equation = equation +'*'\n",
        "    if(result[0]==0):\n",
        "        equation = equation +'0'\n",
        "    if(result[0]==1):\n",
        "        equation = equation +'1'\n",
        "    if(result[0]==2):\n",
        "        equation = equation +'2'\n",
        "    if(result[0]==3):\n",
        "        equation = equation +'3'\n",
        "    if(result[0]==4):\n",
        "        equation = equation +'4'\n",
        "    if(result[0]==5):\n",
        "        equation = equation +'5'\n",
        "    if(result[0]==6):\n",
        "        equation = equation +'6'\n",
        "    if(result[0]==7):\n",
        "        equation = equation +'7'\n",
        "    if(result[0]==8):\n",
        "        equation = equation +'8'\n",
        "    if(result[0]==9):\n",
        "        equation = equation +'9'\n",
        "\n",
        "print(equation)"
      ]
    },
    {
      "cell_type": "code",
      "execution_count": 67,
      "metadata": {
        "colab": {
          "base_uri": "https://localhost:8080/"
        },
        "id": "Oi6vrS39S9gK",
        "outputId": "e187b244-adbf-4cc0-a904-918d89cd0659"
      },
      "outputs": [
        {
          "data": {
            "text/plain": [
              "90"
            ]
          },
          "execution_count": 67,
          "metadata": {},
          "output_type": "execute_result"
        }
      ],
      "source": [
        "eval(equation)"
      ]
    }
  ],
  "metadata": {
    "colab": {
      "provenance": []
    },
    "kernelspec": {
      "display_name": "Python 3.10.4 64-bit",
      "language": "python",
      "name": "python3"
    },
    "language_info": {
      "codemirror_mode": {
        "name": "ipython",
        "version": 3
      },
      "file_extension": ".py",
      "mimetype": "text/x-python",
      "name": "python",
      "nbconvert_exporter": "python",
      "pygments_lexer": "ipython3",
      "version": "3.10.4"
    },
    "vscode": {
      "interpreter": {
        "hash": "3196968d684371006099b3d55edeef8ed90365227a30deaef86e5d4aa8519be0"
      }
    }
  },
  "nbformat": 4,
  "nbformat_minor": 0
}
