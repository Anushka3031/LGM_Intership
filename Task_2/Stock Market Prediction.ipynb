{
 "cells": [
  {
   "cell_type": "code",
   "execution_count": 38,
   "metadata": {},
   "outputs": [],
   "source": [
    "import pandas as pd\n",
    "import numpy as np\n",
    "import math \n",
    "import matplotlib.pyplot as plt\n",
    "from sklearn.preprocessing import MinMaxScaler\n",
    "from sklearn.metrics import mean_squared_error\n",
    "import tensorflow as tf\n",
    "from tensorflow.python.keras.models import Sequential\n",
    "from tensorflow.python.keras.layers import Dense,LSTM\n",
    "%matplotlib inline"
   ]
  },
  {
   "cell_type": "code",
   "execution_count": 39,
   "metadata": {},
   "outputs": [
    {
     "data": {
      "text/html": [
       "<div>\n",
       "<style scoped>\n",
       "    .dataframe tbody tr th:only-of-type {\n",
       "        vertical-align: middle;\n",
       "    }\n",
       "\n",
       "    .dataframe tbody tr th {\n",
       "        vertical-align: top;\n",
       "    }\n",
       "\n",
       "    .dataframe thead th {\n",
       "        text-align: right;\n",
       "    }\n",
       "</style>\n",
       "<table border=\"1\" class=\"dataframe\">\n",
       "  <thead>\n",
       "    <tr style=\"text-align: right;\">\n",
       "      <th></th>\n",
       "      <th>Date</th>\n",
       "      <th>Open</th>\n",
       "      <th>High</th>\n",
       "      <th>Low</th>\n",
       "      <th>Last</th>\n",
       "      <th>Close</th>\n",
       "      <th>Total Trade Quantity</th>\n",
       "      <th>Turnover (Lacs)</th>\n",
       "    </tr>\n",
       "  </thead>\n",
       "  <tbody>\n",
       "    <tr>\n",
       "      <th>0</th>\n",
       "      <td>2018-09-28</td>\n",
       "      <td>234.05</td>\n",
       "      <td>235.95</td>\n",
       "      <td>230.20</td>\n",
       "      <td>233.50</td>\n",
       "      <td>233.75</td>\n",
       "      <td>3069914</td>\n",
       "      <td>7162.35</td>\n",
       "    </tr>\n",
       "    <tr>\n",
       "      <th>1</th>\n",
       "      <td>2018-09-27</td>\n",
       "      <td>234.55</td>\n",
       "      <td>236.80</td>\n",
       "      <td>231.10</td>\n",
       "      <td>233.80</td>\n",
       "      <td>233.25</td>\n",
       "      <td>5082859</td>\n",
       "      <td>11859.95</td>\n",
       "    </tr>\n",
       "    <tr>\n",
       "      <th>2</th>\n",
       "      <td>2018-09-26</td>\n",
       "      <td>240.00</td>\n",
       "      <td>240.00</td>\n",
       "      <td>232.50</td>\n",
       "      <td>235.00</td>\n",
       "      <td>234.25</td>\n",
       "      <td>2240909</td>\n",
       "      <td>5248.60</td>\n",
       "    </tr>\n",
       "    <tr>\n",
       "      <th>3</th>\n",
       "      <td>2018-09-25</td>\n",
       "      <td>233.30</td>\n",
       "      <td>236.75</td>\n",
       "      <td>232.00</td>\n",
       "      <td>236.25</td>\n",
       "      <td>236.10</td>\n",
       "      <td>2349368</td>\n",
       "      <td>5503.90</td>\n",
       "    </tr>\n",
       "    <tr>\n",
       "      <th>4</th>\n",
       "      <td>2018-09-24</td>\n",
       "      <td>233.55</td>\n",
       "      <td>239.20</td>\n",
       "      <td>230.75</td>\n",
       "      <td>234.00</td>\n",
       "      <td>233.30</td>\n",
       "      <td>3423509</td>\n",
       "      <td>7999.55</td>\n",
       "    </tr>\n",
       "    <tr>\n",
       "      <th>...</th>\n",
       "      <td>...</td>\n",
       "      <td>...</td>\n",
       "      <td>...</td>\n",
       "      <td>...</td>\n",
       "      <td>...</td>\n",
       "      <td>...</td>\n",
       "      <td>...</td>\n",
       "      <td>...</td>\n",
       "    </tr>\n",
       "    <tr>\n",
       "      <th>2030</th>\n",
       "      <td>2010-07-27</td>\n",
       "      <td>117.60</td>\n",
       "      <td>119.50</td>\n",
       "      <td>112.00</td>\n",
       "      <td>118.80</td>\n",
       "      <td>118.65</td>\n",
       "      <td>586100</td>\n",
       "      <td>694.98</td>\n",
       "    </tr>\n",
       "    <tr>\n",
       "      <th>2031</th>\n",
       "      <td>2010-07-26</td>\n",
       "      <td>120.10</td>\n",
       "      <td>121.00</td>\n",
       "      <td>117.10</td>\n",
       "      <td>117.10</td>\n",
       "      <td>117.60</td>\n",
       "      <td>658440</td>\n",
       "      <td>780.01</td>\n",
       "    </tr>\n",
       "    <tr>\n",
       "      <th>2032</th>\n",
       "      <td>2010-07-23</td>\n",
       "      <td>121.80</td>\n",
       "      <td>121.95</td>\n",
       "      <td>120.25</td>\n",
       "      <td>120.35</td>\n",
       "      <td>120.65</td>\n",
       "      <td>281312</td>\n",
       "      <td>340.31</td>\n",
       "    </tr>\n",
       "    <tr>\n",
       "      <th>2033</th>\n",
       "      <td>2010-07-22</td>\n",
       "      <td>120.30</td>\n",
       "      <td>122.00</td>\n",
       "      <td>120.25</td>\n",
       "      <td>120.75</td>\n",
       "      <td>120.90</td>\n",
       "      <td>293312</td>\n",
       "      <td>355.17</td>\n",
       "    </tr>\n",
       "    <tr>\n",
       "      <th>2034</th>\n",
       "      <td>2010-07-21</td>\n",
       "      <td>122.10</td>\n",
       "      <td>123.00</td>\n",
       "      <td>121.05</td>\n",
       "      <td>121.10</td>\n",
       "      <td>121.55</td>\n",
       "      <td>658666</td>\n",
       "      <td>803.56</td>\n",
       "    </tr>\n",
       "  </tbody>\n",
       "</table>\n",
       "<p>2035 rows × 8 columns</p>\n",
       "</div>"
      ],
      "text/plain": [
       "            Date    Open    High     Low    Last   Close   \n",
       "0     2018-09-28  234.05  235.95  230.20  233.50  233.75  \\\n",
       "1     2018-09-27  234.55  236.80  231.10  233.80  233.25   \n",
       "2     2018-09-26  240.00  240.00  232.50  235.00  234.25   \n",
       "3     2018-09-25  233.30  236.75  232.00  236.25  236.10   \n",
       "4     2018-09-24  233.55  239.20  230.75  234.00  233.30   \n",
       "...          ...     ...     ...     ...     ...     ...   \n",
       "2030  2010-07-27  117.60  119.50  112.00  118.80  118.65   \n",
       "2031  2010-07-26  120.10  121.00  117.10  117.10  117.60   \n",
       "2032  2010-07-23  121.80  121.95  120.25  120.35  120.65   \n",
       "2033  2010-07-22  120.30  122.00  120.25  120.75  120.90   \n",
       "2034  2010-07-21  122.10  123.00  121.05  121.10  121.55   \n",
       "\n",
       "      Total Trade Quantity  Turnover (Lacs)  \n",
       "0                  3069914          7162.35  \n",
       "1                  5082859         11859.95  \n",
       "2                  2240909          5248.60  \n",
       "3                  2349368          5503.90  \n",
       "4                  3423509          7999.55  \n",
       "...                    ...              ...  \n",
       "2030                586100           694.98  \n",
       "2031                658440           780.01  \n",
       "2032                281312           340.31  \n",
       "2033                293312           355.17  \n",
       "2034                658666           803.56  \n",
       "\n",
       "[2035 rows x 8 columns]"
      ]
     },
     "execution_count": 39,
     "metadata": {},
     "output_type": "execute_result"
    }
   ],
   "source": [
    "data=pd.read_csv(\"https://raw.githubusercontent.com/mwitiderrick/stockprice/master/NSE-TATAGLOBAL.csv\")\n",
    "data"
   ]
  },
  {
   "cell_type": "code",
   "execution_count": 40,
   "metadata": {},
   "outputs": [
    {
     "name": "stdout",
     "output_type": "stream",
     "text": [
      "<class 'pandas.core.frame.DataFrame'>\n",
      "RangeIndex: 2035 entries, 0 to 2034\n",
      "Data columns (total 8 columns):\n",
      " #   Column                Non-Null Count  Dtype  \n",
      "---  ------                --------------  -----  \n",
      " 0   Date                  2035 non-null   object \n",
      " 1   Open                  2035 non-null   float64\n",
      " 2   High                  2035 non-null   float64\n",
      " 3   Low                   2035 non-null   float64\n",
      " 4   Last                  2035 non-null   float64\n",
      " 5   Close                 2035 non-null   float64\n",
      " 6   Total Trade Quantity  2035 non-null   int64  \n",
      " 7   Turnover (Lacs)       2035 non-null   float64\n",
      "dtypes: float64(6), int64(1), object(1)\n",
      "memory usage: 127.3+ KB\n"
     ]
    }
   ],
   "source": [
    "data.info()"
   ]
  },
  {
   "cell_type": "code",
   "execution_count": 41,
   "metadata": {},
   "outputs": [
    {
     "data": {
      "text/html": [
       "<div>\n",
       "<style scoped>\n",
       "    .dataframe tbody tr th:only-of-type {\n",
       "        vertical-align: middle;\n",
       "    }\n",
       "\n",
       "    .dataframe tbody tr th {\n",
       "        vertical-align: top;\n",
       "    }\n",
       "\n",
       "    .dataframe thead th {\n",
       "        text-align: right;\n",
       "    }\n",
       "</style>\n",
       "<table border=\"1\" class=\"dataframe\">\n",
       "  <thead>\n",
       "    <tr style=\"text-align: right;\">\n",
       "      <th></th>\n",
       "      <th>Open</th>\n",
       "      <th>High</th>\n",
       "      <th>Low</th>\n",
       "      <th>Last</th>\n",
       "      <th>Close</th>\n",
       "      <th>Total Trade Quantity</th>\n",
       "      <th>Turnover (Lacs)</th>\n",
       "    </tr>\n",
       "  </thead>\n",
       "  <tbody>\n",
       "    <tr>\n",
       "      <th>count</th>\n",
       "      <td>2035.000000</td>\n",
       "      <td>2035.000000</td>\n",
       "      <td>2035.000000</td>\n",
       "      <td>2035.000000</td>\n",
       "      <td>2035.00000</td>\n",
       "      <td>2.035000e+03</td>\n",
       "      <td>2035.000000</td>\n",
       "    </tr>\n",
       "    <tr>\n",
       "      <th>mean</th>\n",
       "      <td>149.713735</td>\n",
       "      <td>151.992826</td>\n",
       "      <td>147.293931</td>\n",
       "      <td>149.474251</td>\n",
       "      <td>149.45027</td>\n",
       "      <td>2.335681e+06</td>\n",
       "      <td>3899.980565</td>\n",
       "    </tr>\n",
       "    <tr>\n",
       "      <th>std</th>\n",
       "      <td>48.664509</td>\n",
       "      <td>49.413109</td>\n",
       "      <td>47.931958</td>\n",
       "      <td>48.732570</td>\n",
       "      <td>48.71204</td>\n",
       "      <td>2.091778e+06</td>\n",
       "      <td>4570.767877</td>\n",
       "    </tr>\n",
       "    <tr>\n",
       "      <th>min</th>\n",
       "      <td>81.100000</td>\n",
       "      <td>82.800000</td>\n",
       "      <td>80.000000</td>\n",
       "      <td>81.000000</td>\n",
       "      <td>80.95000</td>\n",
       "      <td>3.961000e+04</td>\n",
       "      <td>37.040000</td>\n",
       "    </tr>\n",
       "    <tr>\n",
       "      <th>25%</th>\n",
       "      <td>120.025000</td>\n",
       "      <td>122.100000</td>\n",
       "      <td>118.300000</td>\n",
       "      <td>120.075000</td>\n",
       "      <td>120.05000</td>\n",
       "      <td>1.146444e+06</td>\n",
       "      <td>1427.460000</td>\n",
       "    </tr>\n",
       "    <tr>\n",
       "      <th>50%</th>\n",
       "      <td>141.500000</td>\n",
       "      <td>143.400000</td>\n",
       "      <td>139.600000</td>\n",
       "      <td>141.100000</td>\n",
       "      <td>141.25000</td>\n",
       "      <td>1.783456e+06</td>\n",
       "      <td>2512.030000</td>\n",
       "    </tr>\n",
       "    <tr>\n",
       "      <th>75%</th>\n",
       "      <td>157.175000</td>\n",
       "      <td>159.400000</td>\n",
       "      <td>155.150000</td>\n",
       "      <td>156.925000</td>\n",
       "      <td>156.90000</td>\n",
       "      <td>2.813594e+06</td>\n",
       "      <td>4539.015000</td>\n",
       "    </tr>\n",
       "    <tr>\n",
       "      <th>max</th>\n",
       "      <td>327.700000</td>\n",
       "      <td>328.750000</td>\n",
       "      <td>321.650000</td>\n",
       "      <td>325.950000</td>\n",
       "      <td>325.75000</td>\n",
       "      <td>2.919102e+07</td>\n",
       "      <td>55755.080000</td>\n",
       "    </tr>\n",
       "  </tbody>\n",
       "</table>\n",
       "</div>"
      ],
      "text/plain": [
       "              Open         High          Low         Last       Close   \n",
       "count  2035.000000  2035.000000  2035.000000  2035.000000  2035.00000  \\\n",
       "mean    149.713735   151.992826   147.293931   149.474251   149.45027   \n",
       "std      48.664509    49.413109    47.931958    48.732570    48.71204   \n",
       "min      81.100000    82.800000    80.000000    81.000000    80.95000   \n",
       "25%     120.025000   122.100000   118.300000   120.075000   120.05000   \n",
       "50%     141.500000   143.400000   139.600000   141.100000   141.25000   \n",
       "75%     157.175000   159.400000   155.150000   156.925000   156.90000   \n",
       "max     327.700000   328.750000   321.650000   325.950000   325.75000   \n",
       "\n",
       "       Total Trade Quantity  Turnover (Lacs)  \n",
       "count          2.035000e+03      2035.000000  \n",
       "mean           2.335681e+06      3899.980565  \n",
       "std            2.091778e+06      4570.767877  \n",
       "min            3.961000e+04        37.040000  \n",
       "25%            1.146444e+06      1427.460000  \n",
       "50%            1.783456e+06      2512.030000  \n",
       "75%            2.813594e+06      4539.015000  \n",
       "max            2.919102e+07     55755.080000  "
      ]
     },
     "execution_count": 41,
     "metadata": {},
     "output_type": "execute_result"
    }
   ],
   "source": [
    "data.describe()"
   ]
  },
  {
   "cell_type": "code",
   "execution_count": 42,
   "metadata": {},
   "outputs": [],
   "source": [
    "df_close= data['Close']"
   ]
  },
  {
   "cell_type": "code",
   "execution_count": 43,
   "metadata": {},
   "outputs": [
    {
     "data": {
      "text/plain": [
       "(2035,)"
      ]
     },
     "execution_count": 43,
     "metadata": {},
     "output_type": "execute_result"
    }
   ],
   "source": [
    "df_close.shape"
   ]
  },
  {
   "cell_type": "code",
   "execution_count": 44,
   "metadata": {},
   "outputs": [
    {
     "data": {
      "text/plain": [
       "[<matplotlib.lines.Line2D at 0x1f70b80f370>]"
      ]
     },
     "execution_count": 44,
     "metadata": {},
     "output_type": "execute_result"
    },
    {
     "data": {
      "image/png": "[encoded data removed]",
      "text/plain": [
       "<Figure size 640x480 with 1 Axes>"
      ]
     },
     "metadata": {},
     "output_type": "display_data"
    }
   ],
   "source": [
    "plt.plot(df_close)"
   ]
  },
  {
   "cell_type": "code",
   "execution_count": 45,
   "metadata": {},
   "outputs": [
    {
     "data": {
      "text/plain": [
       "0       233.75\n",
       "1       233.25\n",
       "2       234.25\n",
       "3       236.10\n",
       "4       233.30\n",
       "         ...  \n",
       "2030    118.65\n",
       "2031    117.60\n",
       "2032    120.65\n",
       "2033    120.90\n",
       "2034    121.55\n",
       "Name: Close, Length: 2035, dtype: float64"
      ]
     },
     "execution_count": 45,
     "metadata": {},
     "output_type": "execute_result"
    }
   ],
   "source": [
    "df=data.reset_index()['Close']\n",
    "df"
   ]
  },
  {
   "cell_type": "code",
   "execution_count": 46,
   "metadata": {},
   "outputs": [],
   "source": [
    "from sklearn.preprocessing import MinMaxScaler\n",
    "scaler=MinMaxScaler(feature_range=(0,1))\n",
    "df_scaler=scaler.fit_transform(np.array(df).reshape(-1,1))"
   ]
  },
  {
   "cell_type": "code",
   "execution_count": 47,
   "metadata": {},
   "outputs": [
    {
     "data": {
      "text/plain": [
       "(2035, 1)"
      ]
     },
     "execution_count": 47,
     "metadata": {},
     "output_type": "execute_result"
    }
   ],
   "source": [
    "df_scaler.shape"
   ]
  },
  {
   "cell_type": "code",
   "execution_count": 48,
   "metadata": {},
   "outputs": [],
   "source": [
    "training_size=int(len(df_scaler)*0.75)\n",
    "test_size=len(df_scaler)-training_size\n",
    "train_data,test_data=df_scaler[0:training_size,:],df_scaler[training_size:len(df_scaler),:1]"
   ]
  },
  {
   "cell_type": "code",
   "execution_count": 49,
   "metadata": {},
   "outputs": [
    {
     "data": {
      "text/plain": [
       "(1526, 509)"
      ]
     },
     "execution_count": 49,
     "metadata": {},
     "output_type": "execute_result"
    }
   ],
   "source": [
    "training_size,test_size"
   ]
  },
  {
   "cell_type": "code",
   "execution_count": 50,
   "metadata": {},
   "outputs": [
    {
     "data": {
      "text/plain": [
       "array([[0.62418301],\n",
       "       [0.62214052],\n",
       "       [0.62622549],\n",
       "       ...,\n",
       "       [0.18831699],\n",
       "       [0.18811275],\n",
       "       [0.17034314]])"
      ]
     },
     "execution_count": 50,
     "metadata": {},
     "output_type": "execute_result"
    }
   ],
   "source": [
    "train_data"
   ]
  },
  {
   "cell_type": "code",
   "execution_count": 51,
   "metadata": {},
   "outputs": [],
   "source": [
    "# convert an array of values into a dataset matrix\n",
    "def create_dataset(dataset, time_step=1):\n",
    "    dataX, dataY = [],[]\n",
    "    for i in range(len(dataset)-time_step-1):\n",
    "        a = dataset[i:(i+time_step),0]   ###i=0, 0,1,2,3-----99   100 \n",
    "        dataX.append(a)\n",
    "        dataY.append(dataset[i + time_step, 0])\n",
    "    return np.array(dataX), np.array(dataY)"
   ]
  },
  {
   "cell_type": "code",
   "execution_count": 52,
   "metadata": {},
   "outputs": [],
   "source": [
    "time_step=100\n",
    "x_train,y_train = create_dataset(train_data,time_step)\n",
    "x_test,y_test= create_dataset(test_data,time_step)"
   ]
  },
  {
   "cell_type": "code",
   "execution_count": 53,
   "metadata": {},
   "outputs": [
    {
     "name": "stdout",
     "output_type": "stream",
     "text": [
      "(1425, 100)\n",
      "(1425,)\n"
     ]
    }
   ],
   "source": [
    "print(x_train.shape)\n",
    "print(y_train.shape)"
   ]
  },
  {
   "cell_type": "code",
   "execution_count": 54,
   "metadata": {},
   "outputs": [
    {
     "name": "stdout",
     "output_type": "stream",
     "text": [
      "(408, 100)\n",
      "(408,)\n"
     ]
    }
   ],
   "source": [
    "print(x_test.shape)\n",
    "print(y_test.shape)"
   ]
  },
  {
   "cell_type": "code",
   "execution_count": 55,
   "metadata": {},
   "outputs": [],
   "source": [
    "x_train=x_train.reshape(x_train.shape[0],x_train.shape[1], 1)\n",
    "x_test=x_test.reshape(x_test.shape[0],x_test.shape[1], 1)"
   ]
  },
  {
   "cell_type": "code",
   "execution_count": 56,
   "metadata": {},
   "outputs": [
    {
     "name": "stdout",
     "output_type": "stream",
     "text": [
      "Model: \"sequential_3\"\n",
      "_________________________________________________________________\n",
      "Layer (type)                 Output Shape              Param #   \n",
      "=================================================================\n",
      "lstm_9 (LSTM)                (None, 100, 50)           10400     \n",
      "_________________________________________________________________\n",
      "lstm_10 (LSTM)               (None, 100, 50)           20200     \n",
      "_________________________________________________________________\n",
      "lstm_11 (LSTM)               (None, 50)                20200     \n",
      "_________________________________________________________________\n",
      "dense_3 (Dense)              (None, 1)                 51        \n",
      "=================================================================\n",
      "Total params: 50,851\n",
      "Trainable params: 50,851\n",
      "Non-trainable params: 0\n",
      "_________________________________________________________________\n"
     ]
    }
   ],
   "source": [
    "#Create the LSTM Model\n",
    "model = Sequential()\n",
    "model.add(LSTM(50, return_sequences = True, input_shape = (100,1)))\n",
    "model.add(LSTM(50, return_sequences = True))\n",
    "model.add(LSTM(50))\n",
    "model.add(Dense(1))\n",
    "model.compile(loss = 'mean_squared_error', optimizer = 'adam')\n",
    "model.summary()"
   ]
  },
  {
   "cell_type": "code",
   "execution_count": 57,
   "metadata": {},
   "outputs": [
    {
     "name": "stdout",
     "output_type": "stream",
     "text": [
      "Epoch 1/100\n",
      "23/23 [==============================] - 12s 195ms/step - loss: 0.0163 - val_loss: 0.0066\n",
      "Epoch 2/100\n",
      "23/23 [==============================] - 4s 166ms/step - loss: 0.0021 - val_loss: 7.8794e-04\n",
      "Epoch 3/100\n",
      "23/23 [==============================] - 4s 168ms/step - loss: 0.0013 - val_loss: 0.0014\n",
      "Epoch 4/100\n",
      "23/23 [==============================] - 4s 178ms/step - loss: 0.0013 - val_loss: 0.0011\n",
      "Epoch 5/100\n",
      "23/23 [==============================] - 4s 174ms/step - loss: 0.0013 - val_loss: 0.0011\n",
      "Epoch 6/100\n",
      "23/23 [==============================] - 4s 165ms/step - loss: 0.0012 - val_loss: 0.0010\n",
      "Epoch 7/100\n",
      "23/23 [==============================] - 4s 173ms/step - loss: 0.0011 - val_loss: 0.0012\n",
      "Epoch 8/100\n",
      "23/23 [==============================] - 4s 162ms/step - loss: 0.0011 - val_loss: 9.4845e-04\n",
      "Epoch 9/100\n",
      "23/23 [==============================] - 4s 161ms/step - loss: 0.0011 - val_loss: 0.0010\n",
      "Epoch 10/100\n",
      "23/23 [==============================] - 4s 163ms/step - loss: 9.4724e-04 - val_loss: 6.0618e-04\n",
      "Epoch 11/100\n",
      "23/23 [==============================] - 4s 192ms/step - loss: 9.5965e-04 - val_loss: 5.2818e-04\n",
      "Epoch 12/100\n",
      "23/23 [==============================] - 4s 180ms/step - loss: 9.7230e-04 - val_loss: 6.7906e-04\n",
      "Epoch 13/100\n",
      "23/23 [==============================] - 4s 168ms/step - loss: 0.0010 - val_loss: 6.6905e-04\n",
      "Epoch 14/100\n",
      "23/23 [==============================] - 5s 207ms/step - loss: 0.0010 - val_loss: 9.3366e-04\n",
      "Epoch 15/100\n",
      "23/23 [==============================] - 4s 187ms/step - loss: 8.2834e-04 - val_loss: 6.8062e-04\n",
      "Epoch 16/100\n",
      "23/23 [==============================] - 4s 170ms/step - loss: 8.1712e-04 - val_loss: 6.7148e-04\n",
      "Epoch 17/100\n",
      "23/23 [==============================] - 4s 178ms/step - loss: 8.3362e-04 - val_loss: 8.6397e-04\n",
      "Epoch 18/100\n",
      "23/23 [==============================] - 4s 171ms/step - loss: 7.5859e-04 - val_loss: 5.8908e-04\n",
      "Epoch 19/100\n",
      "23/23 [==============================] - 4s 167ms/step - loss: 7.3715e-04 - val_loss: 8.6140e-04\n",
      "Epoch 20/100\n",
      "23/23 [==============================] - 4s 168ms/step - loss: 7.3804e-04 - val_loss: 8.1450e-04\n",
      "Epoch 21/100\n",
      "23/23 [==============================] - 4s 169ms/step - loss: 6.3405e-04 - val_loss: 9.1329e-04\n",
      "Epoch 22/100\n",
      "23/23 [==============================] - 4s 171ms/step - loss: 6.6836e-04 - val_loss: 5.4405e-04\n",
      "Epoch 23/100\n",
      "23/23 [==============================] - 4s 179ms/step - loss: 6.3789e-04 - val_loss: 5.9222e-04\n",
      "Epoch 24/100\n",
      "23/23 [==============================] - 4s 167ms/step - loss: 5.8947e-04 - val_loss: 6.9902e-04\n",
      "Epoch 25/100\n",
      "23/23 [==============================] - 4s 171ms/step - loss: 5.7554e-04 - val_loss: 8.8011e-04\n",
      "Epoch 26/100\n",
      "23/23 [==============================] - 4s 167ms/step - loss: 5.9730e-04 - val_loss: 5.6668e-04\n",
      "Epoch 27/100\n",
      "23/23 [==============================] - 4s 167ms/step - loss: 5.6558e-04 - val_loss: 5.5740e-04\n",
      "Epoch 28/100\n",
      "23/23 [==============================] - 4s 169ms/step - loss: 5.9063e-04 - val_loss: 5.8111e-04\n",
      "Epoch 29/100\n",
      "23/23 [==============================] - 4s 174ms/step - loss: 5.3101e-04 - val_loss: 7.3891e-04\n",
      "Epoch 30/100\n",
      "23/23 [==============================] - 4s 174ms/step - loss: 5.4185e-04 - val_loss: 5.7505e-04\n",
      "Epoch 31/100\n",
      "23/23 [==============================] - 4s 169ms/step - loss: 5.3364e-04 - val_loss: 4.3005e-04\n",
      "Epoch 32/100\n",
      "23/23 [==============================] - 4s 167ms/step - loss: 5.5819e-04 - val_loss: 5.8845e-04\n",
      "Epoch 33/100\n",
      "23/23 [==============================] - 4s 169ms/step - loss: 6.0356e-04 - val_loss: 4.7262e-04\n",
      "Epoch 34/100\n",
      "23/23 [==============================] - 4s 166ms/step - loss: 6.5921e-04 - val_loss: 7.1550e-04\n",
      "Epoch 35/100\n",
      "23/23 [==============================] - 4s 170ms/step - loss: 4.9246e-04 - val_loss: 7.3953e-04\n",
      "Epoch 36/100\n",
      "23/23 [==============================] - 4s 173ms/step - loss: 4.6446e-04 - val_loss: 4.8036e-04\n",
      "Epoch 37/100\n",
      "23/23 [==============================] - 4s 168ms/step - loss: 4.5187e-04 - val_loss: 4.2457e-04\n",
      "Epoch 38/100\n",
      "23/23 [==============================] - 4s 181ms/step - loss: 4.5918e-04 - val_loss: 4.7387e-04\n",
      "Epoch 39/100\n",
      "23/23 [==============================] - 4s 171ms/step - loss: 4.3741e-04 - val_loss: 6.5531e-04\n",
      "Epoch 40/100\n",
      "23/23 [==============================] - 4s 169ms/step - loss: 4.9498e-04 - val_loss: 6.0695e-04\n",
      "Epoch 41/100\n",
      "23/23 [==============================] - 4s 166ms/step - loss: 4.5758e-04 - val_loss: 4.6124e-04\n",
      "Epoch 42/100\n",
      "23/23 [==============================] - 4s 168ms/step - loss: 4.0491e-04 - val_loss: 5.3735e-04\n",
      "Epoch 43/100\n",
      "23/23 [==============================] - 4s 166ms/step - loss: 4.4743e-04 - val_loss: 3.2081e-04\n",
      "Epoch 44/100\n",
      "23/23 [==============================] - 4s 167ms/step - loss: 4.1316e-04 - val_loss: 5.9869e-04\n",
      "Epoch 45/100\n",
      "23/23 [==============================] - 4s 173ms/step - loss: 4.3638e-04 - val_loss: 4.5295e-04\n",
      "Epoch 46/100\n",
      "23/23 [==============================] - 4s 172ms/step - loss: 3.9716e-04 - val_loss: 4.5630e-04\n",
      "Epoch 47/100\n",
      "23/23 [==============================] - 4s 165ms/step - loss: 3.9175e-04 - val_loss: 3.5604e-04\n",
      "Epoch 48/100\n",
      "23/23 [==============================] - 4s 167ms/step - loss: 3.6002e-04 - val_loss: 4.5669e-04\n",
      "Epoch 49/100\n",
      "23/23 [==============================] - 4s 169ms/step - loss: 4.1192e-04 - val_loss: 3.3949e-04\n",
      "Epoch 50/100\n",
      "23/23 [==============================] - 4s 170ms/step - loss: 4.3972e-04 - val_loss: 4.1751e-04\n",
      "Epoch 51/100\n",
      "23/23 [==============================] - 4s 167ms/step - loss: 3.8210e-04 - val_loss: 4.8144e-04\n",
      "Epoch 52/100\n",
      "23/23 [==============================] - 4s 171ms/step - loss: 4.5982e-04 - val_loss: 5.2011e-04\n",
      "Epoch 53/100\n",
      "23/23 [==============================] - 4s 171ms/step - loss: 4.1324e-04 - val_loss: 4.2557e-04\n",
      "Epoch 54/100\n",
      "23/23 [==============================] - 4s 165ms/step - loss: 3.5149e-04 - val_loss: 3.8900e-04\n",
      "Epoch 55/100\n",
      "23/23 [==============================] - 4s 174ms/step - loss: 4.0390e-04 - val_loss: 4.7600e-04\n",
      "Epoch 56/100\n",
      "23/23 [==============================] - 4s 175ms/step - loss: 3.6060e-04 - val_loss: 4.0151e-04\n",
      "Epoch 57/100\n",
      "23/23 [==============================] - 4s 166ms/step - loss: 3.9353e-04 - val_loss: 2.8066e-04\n",
      "Epoch 58/100\n",
      "23/23 [==============================] - 4s 174ms/step - loss: 3.3171e-04 - val_loss: 3.5705e-04\n",
      "Epoch 59/100\n",
      "23/23 [==============================] - 4s 166ms/step - loss: 2.9576e-04 - val_loss: 3.5141e-04\n",
      "Epoch 60/100\n",
      "23/23 [==============================] - 4s 191ms/step - loss: 3.1190e-04 - val_loss: 3.3004e-04\n",
      "Epoch 61/100\n",
      "23/23 [==============================] - 5s 198ms/step - loss: 2.9365e-04 - val_loss: 2.8597e-04\n",
      "Epoch 62/100\n",
      "23/23 [==============================] - 4s 177ms/step - loss: 2.7456e-04 - val_loss: 3.4538e-04\n",
      "Epoch 63/100\n",
      "23/23 [==============================] - 4s 177ms/step - loss: 2.8546e-04 - val_loss: 3.2945e-04\n",
      "Epoch 64/100\n",
      "23/23 [==============================] - 5s 198ms/step - loss: 2.6790e-04 - val_loss: 3.7163e-04\n",
      "Epoch 65/100\n",
      "23/23 [==============================] - 4s 185ms/step - loss: 2.6257e-04 - val_loss: 3.4173e-04\n",
      "Epoch 66/100\n",
      "23/23 [==============================] - 4s 167ms/step - loss: 2.9861e-04 - val_loss: 2.7227e-04\n",
      "Epoch 67/100\n",
      "23/23 [==============================] - 4s 165ms/step - loss: 2.6255e-04 - val_loss: 2.5150e-04\n",
      "Epoch 68/100\n",
      "23/23 [==============================] - 4s 166ms/step - loss: 2.6365e-04 - val_loss: 2.7886e-04\n",
      "Epoch 69/100\n",
      "23/23 [==============================] - 4s 167ms/step - loss: 2.5733e-04 - val_loss: 2.5248e-04\n",
      "Epoch 70/100\n",
      "23/23 [==============================] - 4s 165ms/step - loss: 2.8753e-04 - val_loss: 2.2468e-04\n",
      "Epoch 71/100\n",
      "23/23 [==============================] - 4s 163ms/step - loss: 2.9872e-04 - val_loss: 2.2766e-04\n",
      "Epoch 72/100\n",
      "23/23 [==============================] - 4s 173ms/step - loss: 2.5107e-04 - val_loss: 2.5633e-04\n",
      "Epoch 73/100\n",
      "23/23 [==============================] - 4s 178ms/step - loss: 2.3879e-04 - val_loss: 2.3508e-04\n",
      "Epoch 74/100\n",
      "23/23 [==============================] - 4s 165ms/step - loss: 2.6131e-04 - val_loss: 2.4457e-04\n",
      "Epoch 75/100\n",
      "23/23 [==============================] - 4s 169ms/step - loss: 2.6087e-04 - val_loss: 2.0502e-04\n",
      "Epoch 76/100\n",
      "23/23 [==============================] - 4s 164ms/step - loss: 2.5478e-04 - val_loss: 2.4722e-04\n",
      "Epoch 77/100\n",
      "23/23 [==============================] - 4s 170ms/step - loss: 2.2670e-04 - val_loss: 2.9956e-04\n",
      "Epoch 78/100\n",
      "23/23 [==============================] - 4s 174ms/step - loss: 2.2146e-04 - val_loss: 2.4076e-04\n",
      "Epoch 79/100\n",
      "23/23 [==============================] - 4s 193ms/step - loss: 2.3086e-04 - val_loss: 1.7727e-04\n",
      "Epoch 80/100\n",
      "23/23 [==============================] - 4s 178ms/step - loss: 3.2106e-04 - val_loss: 1.6905e-04\n",
      "Epoch 81/100\n",
      "23/23 [==============================] - 4s 165ms/step - loss: 2.6113e-04 - val_loss: 2.6491e-04\n",
      "Epoch 82/100\n",
      "23/23 [==============================] - 4s 166ms/step - loss: 2.3630e-04 - val_loss: 2.0935e-04\n",
      "Epoch 83/100\n",
      "23/23 [==============================] - 4s 166ms/step - loss: 2.2096e-04 - val_loss: 2.4392e-04\n",
      "Epoch 84/100\n",
      "23/23 [==============================] - 4s 164ms/step - loss: 3.0211e-04 - val_loss: 2.3031e-04\n",
      "Epoch 85/100\n",
      "23/23 [==============================] - 4s 171ms/step - loss: 2.0992e-04 - val_loss: 2.2146e-04\n",
      "Epoch 86/100\n",
      "23/23 [==============================] - 4s 171ms/step - loss: 2.2338e-04 - val_loss: 2.0763e-04\n",
      "Epoch 87/100\n",
      "23/23 [==============================] - 4s 174ms/step - loss: 2.3967e-04 - val_loss: 2.6476e-04\n",
      "Epoch 88/100\n",
      "23/23 [==============================] - 4s 166ms/step - loss: 2.0866e-04 - val_loss: 2.2155e-04\n",
      "Epoch 89/100\n",
      "23/23 [==============================] - 4s 173ms/step - loss: 2.1169e-04 - val_loss: 2.0115e-04\n",
      "Epoch 90/100\n",
      "23/23 [==============================] - 4s 159ms/step - loss: 2.0681e-04 - val_loss: 2.0373e-04\n",
      "Epoch 91/100\n",
      "23/23 [==============================] - 4s 166ms/step - loss: 2.1217e-04 - val_loss: 1.9827e-04\n",
      "Epoch 92/100\n",
      "23/23 [==============================] - 4s 166ms/step - loss: 2.1255e-04 - val_loss: 1.7250e-04\n",
      "Epoch 93/100\n",
      "23/23 [==============================] - 4s 171ms/step - loss: 2.1165e-04 - val_loss: 1.8987e-04\n",
      "Epoch 94/100\n",
      "23/23 [==============================] - 4s 160ms/step - loss: 1.9700e-04 - val_loss: 1.5789e-04\n",
      "Epoch 95/100\n",
      "23/23 [==============================] - 4s 166ms/step - loss: 2.2077e-04 - val_loss: 2.3184e-04\n",
      "Epoch 96/100\n",
      "23/23 [==============================] - 4s 167ms/step - loss: 2.1954e-04 - val_loss: 2.5614e-04\n",
      "Epoch 97/100\n",
      "23/23 [==============================] - 4s 159ms/step - loss: 2.3865e-04 - val_loss: 2.5988e-04\n",
      "Epoch 98/100\n",
      "23/23 [==============================] - 4s 159ms/step - loss: 2.1591e-04 - val_loss: 2.4568e-04\n",
      "Epoch 99/100\n",
      "23/23 [==============================] - 4s 163ms/step - loss: 2.1464e-04 - val_loss: 2.0348e-04\n",
      "Epoch 100/100\n",
      "23/23 [==============================] - 4s 158ms/step - loss: 2.0547e-04 - val_loss: 2.0715e-04\n"
     ]
    },
    {
     "data": {
      "text/plain": [
       "<tensorflow.python.keras.callbacks.History at 0x1f70b9e4fd0>"
      ]
     },
     "execution_count": 57,
     "metadata": {},
     "output_type": "execute_result"
    }
   ],
   "source": [
    "model.fit(x_train,y_train,validation_data=(x_test,y_test), epochs=100, batch_size=64, verbose=1)"
   ]
  },
  {
   "cell_type": "code",
   "execution_count": 58,
   "metadata": {},
   "outputs": [],
   "source": [
    "#Lets predict and check performance metrics\n",
    "train_predict = model.predict(x_train)\n",
    "test_predict = model.predict(x_test)"
   ]
  },
  {
   "cell_type": "code",
   "execution_count": 59,
   "metadata": {},
   "outputs": [],
   "source": [
    "train_predict = scaler.inverse_transform(train_predict)\n",
    "test_predict = scaler.inverse_transform(test_predict)"
   ]
  },
  {
   "cell_type": "code",
   "execution_count": 60,
   "metadata": {},
   "outputs": [
    {
     "data": {
      "text/plain": [
       "161.85677282600403"
      ]
     },
     "execution_count": 60,
     "metadata": {},
     "output_type": "execute_result"
    }
   ],
   "source": [
    "#Calculate RMSE performance metrics\n",
    "math.sqrt(mean_squared_error(y_train, train_predict))"
   ]
  },
  {
   "cell_type": "code",
   "execution_count": 61,
   "metadata": {},
   "outputs": [
    {
     "data": {
      "text/plain": [
       "106.06180724910956"
      ]
     },
     "execution_count": 61,
     "metadata": {},
     "output_type": "execute_result"
    }
   ],
   "source": [
    "math.sqrt(mean_squared_error(y_test, test_predict))"
   ]
  },
  {
   "cell_type": "code",
   "execution_count": 65,
   "metadata": {},
   "outputs": [
    {
     "data": {
      "image/png": "[encoded data removed]",
      "text/plain": [
       "<Figure size 640x480 with 1 Axes>"
      ]
     },
     "metadata": {},
     "output_type": "display_data"
    }
   ],
   "source": [
    "#Plotting\n",
    "\n",
    "#Shift train prediction for plotting\n",
    "look_back = 100\n",
    "trainPredictPlot = np.empty_like(df_scaler)\n",
    "trainPredictPlot[:,:] = np.nan\n",
    "trainPredictPlot[look_back:len(train_predict) + look_back, :] = train_predict\n",
    "\n",
    "#Shift test prediction for plotting\n",
    "testPredictPlot = np.empty_like(df_scaler)\n",
    "testPredictPlot[:,:] = np.nan\n",
    "testPredictPlot[len(train_predict) + (look_back * 2)+1:len(df_close) - 1, :] = test_predict\n",
    "\n",
    "#Plot baseline and predictions\n",
    "plt.plot(scaler.inverse_transform(df_scaler))\n",
    "plt.plot(trainPredictPlot)\n",
    "plt.plot(testPredictPlot)\n",
    "plt.show()"
   ]
  }
 ],
 "metadata": {
  "kernelspec": {
   "display_name": "Python 3.10.4 64-bit",
   "language": "python",
   "name": "python3"
  },
  "language_info": {
   "codemirror_mode": {
    "name": "ipython",
    "version": 3
   },
   "file_extension": ".py",
   "mimetype": "text/x-python",
   "name": "python",
   "nbconvert_exporter": "python",
   "pygments_lexer": "ipython3",
   "version": "3.10.4"
  },
  "orig_nbformat": 4,
  "vscode": {
   "interpreter": {
    "hash": "3196968d684371006099b3d55edeef8ed90365227a30deaef86e5d4aa8519be0"
   }
  }
 },
 "nbformat": 4,
 "nbformat_minor": 2
}
