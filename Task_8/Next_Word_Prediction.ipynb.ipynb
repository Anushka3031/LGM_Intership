{
  "cells": [
    {
      "cell_type": "markdown",
      "metadata": {
        "id": "Fr9vyLhl9hpK"
      },
      "source": [
        "**ADVANCED LEVEL TASK**\n",
        "\n",
        "---\n"
      ]
    },
    {
      "cell_type": "markdown",
      "metadata": {
        "id": "01TxQV6K-Rqt"
      },
      "source": [
        "***TASk 2:  Next Word Prediction***\n",
        "\n",
        "\n",
        "\n",
        "---\n",
        "\n",
        "\n",
        "\n",
        "---\n",
        "\n",
        "\n",
        "\n"
      ]
    },
    {
      "cell_type": "code",
      "execution_count": 1,
      "metadata": {
        "id": "DYTpb2tJUmue"
      },
      "outputs": [],
      "source": [
        "import numpy as np\n",
        "from nltk.tokenize import RegexpTokenizer\n",
        "from keras.models import Sequential, load_model\n",
        "from keras.layers import LSTM\n",
        "from keras.layers.core import Dense, Activation\n",
        "from keras.optimizers import RMSprop\n",
        "import matplotlib.pyplot as plt\n",
        "import pickle\n",
        "import heapq"
      ]
    },
    {
      "cell_type": "code",
      "execution_count": 2,
      "metadata": {
        "id": "cFwvF1KWU4VS"
      },
      "outputs": [],
      "source": [
        "path = '1661-0.txt'\n",
        "#Reading the datset using open() method and then converting it into lowercase\n",
        "Data = open(path, \"r\" ,encoding  = 'utf8').read().lower()\n"
      ]
    },
    {
      "cell_type": "code",
      "execution_count": 3,
      "metadata": {
        "colab": {
          "base_uri": "https://localhost:8080/"
        },
        "id": "09vbVYOQU4aH",
        "outputId": "bbe583ee-f027-4a62-8706-2f145db137cc"
      },
      "outputs": [
        {
          "name": "stdout",
          "output_type": "stream",
          "text": [
            "Corpus length is : 581888\n"
          ]
        }
      ],
      "source": [
        "Corpus_length = len(Data)\n",
        "print('Corpus length is :', Corpus_length)"
      ]
    },
    {
      "cell_type": "code",
      "execution_count": 4,
      "metadata": {
        "colab": {
          "base_uri": "https://localhost:8080/"
        },
        "id": "GDK7-QziU4cY",
        "outputId": "c248d050-37ee-4b84-85ca-a31563dcee89"
      },
      "outputs": [],
      "source": [
        "file = open(path, \"r\", encoding = \"utf8\")\n",
        "lines = []\n",
        "\n",
        "for line in file:\n",
        "    lines.append(line)"
      ]
    },
    {
      "cell_type": "code",
      "execution_count": 5,
      "metadata": {
        "id": "Hz5tVB8TU4ef"
      },
      "outputs": [],
      "source": [
        "tokenizer = RegexpTokenizer(r'\\w+')\n",
        "words = tokenizer.tokenize(Data)"
      ]
    },
    {
      "cell_type": "code",
      "execution_count": 6,
      "metadata": {
        "colab": {
          "base_uri": "https://localhost:8080/"
        },
        "id": "U16lyxQ9U4gq",
        "outputId": "e45b289a-6af0-4ad4-ec3d-b60c707d29a0"
      },
      "outputs": [
        {
          "name": "stdout",
          "output_type": "stream",
          "text": [
            "['project', 'gutenberg', 's', 'the', 'adventures', 'of', 'sherlock', 'holmes', 'by', 'arthur', 'conan', 'doyle', 'this', 'ebook', 'is', 'for', 'the', 'use', 'of', 'anyone']\n"
          ]
        }
      ],
      "source": [
        "print(words[:20], sep = \" \")"
      ]
    },
    {
      "cell_type": "code",
      "execution_count": 7,
      "metadata": {
        "id": "aoeE7O4CU4ix"
      },
      "outputs": [],
      "source": [
        "unique_words = np.unique(words)\n",
        "unique_word_index = dict((c, i) for i, c in enumerate(unique_words))"
      ]
    },
    {
      "cell_type": "code",
      "execution_count": 8,
      "metadata": {
        "colab": {
          "base_uri": "https://localhost:8080/"
        },
        "id": "QPuqLNk1U4nO",
        "outputId": "5f636e5b-2278-4df0-a91f-e8767b2b3081"
      },
      "outputs": [
        {
          "name": "stdout",
          "output_type": "stream",
          "text": [
            "unique chars: 73\n"
          ]
        }
      ],
      "source": [
        "character = sorted(list(set(Data)))\n",
        "char_indices = dict((c, i) for i, c in enumerate(character))\n",
        "indices_char = dict((i, c) for i, c in enumerate(character))\n",
        "\n",
        "#Printing number of unique characters\n",
        "print(f'unique chars: {len(character)}')"
      ]
    },
    {
      "cell_type": "code",
      "execution_count": 9,
      "metadata": {
        "colab": {
          "base_uri": "https://localhost:8080/"
        },
        "id": "f79Rx1A_U4pm",
        "outputId": "2355266c-7559-4c8b-d61b-1cde7902dcba"
      },
      "outputs": [
        {
          "name": "stdout",
          "output_type": "stream",
          "text": [
            "num training examples: 193950\n"
          ]
        }
      ],
      "source": [
        "sequence_len = 40\n",
        "step = 3\n",
        "sentences = []\n",
        "next_chars = []\n",
        "for i in range(0, len(Data) - sequence_len, step):\n",
        "    sentences.append(Data[i: i + sequence_len ])\n",
        "    next_chars.append(Data[i + sequence_len])\n",
        "print(f'num training examples: {len(sentences)}')"
      ]
    },
    {
      "cell_type": "code",
      "execution_count": 10,
      "metadata": {
        "colab": {
          "base_uri": "https://localhost:8080/"
        },
        "id": "OuCBndLdU4r3",
        "outputId": "6dd085ed-6173-4cab-d34f-36af3940ee4b"
      },
      "outputs": [
        {
          "name": "stderr",
          "output_type": "stream",
          "text": [
            "C:\\Users\\Administrator\\AppData\\Local\\Temp\\ipykernel_14532\\3692717735.py:1: DeprecationWarning: `np.bool` is a deprecated alias for the builtin `bool`. To silence this warning, use `bool` by itself. Doing this will not modify any behavior and is safe. If you specifically wanted the numpy scalar type, use `np.bool_` here.\n",
            "Deprecated in NumPy 1.20; for more details and guidance: https://numpy.org/devdocs/release/1.20.0-notes.html#deprecations\n",
            "  X = np.zeros((len(sentences), sequence_len, len(character)), dtype=np.bool)\n",
            "C:\\Users\\Administrator\\AppData\\Local\\Temp\\ipykernel_14532\\3692717735.py:2: DeprecationWarning: `np.bool` is a deprecated alias for the builtin `bool`. To silence this warning, use `bool` by itself. Doing this will not modify any behavior and is safe. If you specifically wanted the numpy scalar type, use `np.bool_` here.\n",
            "Deprecated in NumPy 1.20; for more details and guidance: https://numpy.org/devdocs/release/1.20.0-notes.html#deprecations\n",
            "  y = np.zeros((len(sentences), len(character)), dtype=np.bool)\n"
          ]
        }
      ],
      "source": [
        "X = np.zeros((len(sentences), sequence_len, len(character)), dtype=np.bool)\n",
        "y = np.zeros((len(sentences), len(character)), dtype=np.bool)\n",
        "for i, sentence in enumerate(sentences):\n",
        "    for t, char in enumerate(sentence):\n",
        "        X[i, t, char_indices[char]] = 1\n",
        "    y[i, char_indices[next_chars[i]]] = 1"
      ]
    },
    {
      "cell_type": "code",
      "execution_count": 11,
      "metadata": {
        "colab": {
          "base_uri": "https://localhost:8080/",
          "height": 36
        },
        "id": "j9Fk_pcaU4uM",
        "outputId": "7f4fffac-b2dc-40b9-8653-826a31b69e77"
      },
      "outputs": [
        {
          "data": {
            "text/plain": [
              "'\\nauthor: arthur conan doyle\\n\\nrelease dat'"
            ]
          },
          "execution_count": 11,
          "metadata": {},
          "output_type": "execute_result"
        }
      ],
      "source": [
        "sentences[124]"
      ]
    },
    {
      "cell_type": "code",
      "execution_count": 12,
      "metadata": {
        "colab": {
          "base_uri": "https://localhost:8080/",
          "height": 36
        },
        "id": "Vj2tz249U4wc",
        "outputId": "0edf91f9-a4c9-4457-c00b-5631b1d34324"
      },
      "outputs": [
        {
          "data": {
            "text/plain": [
              "'e'"
            ]
          },
          "execution_count": 12,
          "metadata": {},
          "output_type": "execute_result"
        }
      ],
      "source": [
        "next_chars[100]"
      ]
    },
    {
      "cell_type": "code",
      "execution_count": 13,
      "metadata": {
        "colab": {
          "base_uri": "https://localhost:8080/"
        },
        "id": "QvgUxFl-U4y3",
        "outputId": "66209702-5e3e-4007-e461-fa789584851f"
      },
      "outputs": [
        {
          "data": {
            "text/plain": [
              "array([False, False, False, False, False, False, False, False, False,\n",
              "       False, False, False, False, False, False, False, False, False,\n",
              "       False, False, False, False, False, False, False, False, False,\n",
              "       False, False, False, False, False, False, False, False, False,\n",
              "       False, False, False, False, False, False, False, False, False,\n",
              "       False, False, False, False, False, False, False, False, False,\n",
              "       False, False, False, False, False, False, False, False, False,\n",
              "       False, False, False, False, False, False, False, False, False,\n",
              "        True])"
            ]
          },
          "execution_count": 13,
          "metadata": {},
          "output_type": "execute_result"
        }
      ],
      "source": [
        "#one hot encoded data\n",
        "X[0][0]"
      ]
    },
    {
      "cell_type": "code",
      "execution_count": 14,
      "metadata": {
        "colab": {
          "base_uri": "https://localhost:8080/"
        },
        "id": "oy-R5ul-U41J",
        "outputId": "7530bf84-dcc2-461c-9015-4ef9ba8cddfd"
      },
      "outputs": [
        {
          "data": {
            "text/plain": [
              "array([False, False, False, False, False, False, False, False, False,\n",
              "       False, False, False, False, False, False, False, False, False,\n",
              "       False, False, False, False, False, False, False, False, False,\n",
              "       False, False, False, False, False, False, False, False, False,\n",
              "       False, False, False, False, False, False, False, False, False,\n",
              "       False, False, False, False, False, False,  True, False, False,\n",
              "       False, False, False, False, False, False, False, False, False,\n",
              "       False, False, False, False, False, False, False, False, False,\n",
              "       False])"
            ]
          },
          "execution_count": 14,
          "metadata": {},
          "output_type": "execute_result"
        }
      ],
      "source": [
        "#one hot encoded data\n",
        "y[0]"
      ]
    },
    {
      "cell_type": "code",
      "execution_count": 15,
      "metadata": {
        "colab": {
          "base_uri": "https://localhost:8080/"
        },
        "id": "eyZl54jQU43X",
        "outputId": "29eb83db-6859-46b0-c711-9a7f9276d476"
      },
      "outputs": [
        {
          "data": {
            "text/plain": [
              "(193950, 40, 73)"
            ]
          },
          "execution_count": 15,
          "metadata": {},
          "output_type": "execute_result"
        }
      ],
      "source": [
        "X.shape"
      ]
    },
    {
      "cell_type": "code",
      "execution_count": 16,
      "metadata": {
        "colab": {
          "base_uri": "https://localhost:8080/"
        },
        "id": "XG6r1lnvU45U",
        "outputId": "e33b9b08-ffa9-45af-de46-b03797a546ec"
      },
      "outputs": [
        {
          "data": {
            "text/plain": [
              "(193950, 73)"
            ]
          },
          "execution_count": 16,
          "metadata": {},
          "output_type": "execute_result"
        }
      ],
      "source": [
        "y.shape"
      ]
    },
    {
      "cell_type": "code",
      "execution_count": 17,
      "metadata": {
        "id": "7Ruefd1qU482"
      },
      "outputs": [],
      "source": [
        "model = Sequential()\n",
        "model.add(LSTM(128, input_shape=(sequence_len, len(character))))\n",
        "model.add(Dense(len(character)))\n",
        "model.add(Activation('softmax'))"
      ]
    },
    {
      "cell_type": "code",
      "execution_count": 18,
      "metadata": {
        "colab": {
          "base_uri": "https://localhost:8080/",
          "height": 682
        },
        "id": "enwFdCR7Vbrx",
        "outputId": "6267a530-0288-4898-8eb7-a2de0d5f0944"
      },
      "outputs": [
        {
          "name": "stdout",
          "output_type": "stream",
          "text": [
            "Model: \"sequential\"\n",
            "_________________________________________________________________\n",
            " Layer (type)                Output Shape              Param #   \n",
            "=================================================================\n",
            " lstm (LSTM)                 (None, 128)               103424    \n",
            "                                                                 \n",
            " dense (Dense)               (None, 73)                9417      \n",
            "                                                                 \n",
            " activation (Activation)     (None, 73)                0         \n",
            "                                                                 \n",
            "=================================================================\n",
            "Total params: 112,841\n",
            "Trainable params: 112,841\n",
            "Non-trainable params: 0\n",
            "_________________________________________________________________\n",
            "You must install pydot (`pip install pydot`) and install graphviz (see instructions at https://graphviz.gitlab.io/download/) for plot_model to work.\n"
          ]
        }
      ],
      "source": [
        "model.summary()\n",
        "from tensorflow.keras.utils import plot_model\n",
        "plot_model(model, show_shapes=True, to_file='model.png')"
      ]
    },
    {
      "cell_type": "code",
      "execution_count": 19,
      "metadata": {
        "colab": {
          "base_uri": "https://localhost:8080/"
        },
        "id": "Yk89AgEtVb9c",
        "outputId": "70c32234-c999-429f-d032-888c93e982e2"
      },
      "outputs": [
        {
          "name": "stdout",
          "output_type": "stream",
          "text": [
            "Epoch 1/50\n",
            "1501/1501 [==============================] - 73s 47ms/step - loss: 1.9676 - accuracy: 0.4217 - val_loss: 2.1592 - val_accuracy: 0.3979\n",
            "Epoch 2/50\n",
            "1501/1501 [==============================] - 74s 49ms/step - loss: 1.6178 - accuracy: 0.5158 - val_loss: 2.0372 - val_accuracy: 0.4459\n",
            "Epoch 3/50\n",
            "1501/1501 [==============================] - 73s 49ms/step - loss: 1.5207 - accuracy: 0.5420 - val_loss: 2.0257 - val_accuracy: 0.4655\n",
            "Epoch 4/50\n",
            "1501/1501 [==============================] - 74s 49ms/step - loss: 1.4703 - accuracy: 0.5560 - val_loss: 2.0344 - val_accuracy: 0.4644\n",
            "Epoch 5/50\n",
            "1501/1501 [==============================] - 77s 51ms/step - loss: 1.4381 - accuracy: 0.5652 - val_loss: 1.9896 - val_accuracy: 0.4840\n",
            "Epoch 6/50\n",
            "1501/1501 [==============================] - 77s 51ms/step - loss: 1.4131 - accuracy: 0.5704 - val_loss: 1.9898 - val_accuracy: 0.4784\n",
            "Epoch 7/50\n",
            "1501/1501 [==============================] - 75s 50ms/step - loss: 1.3965 - accuracy: 0.5752 - val_loss: 2.0203 - val_accuracy: 0.4778\n",
            "Epoch 8/50\n",
            "1501/1501 [==============================] - 102s 68ms/step - loss: 1.3803 - accuracy: 0.5810 - val_loss: 2.0028 - val_accuracy: 0.4799\n",
            "Epoch 9/50\n",
            "1501/1501 [==============================] - 68s 45ms/step - loss: 1.3687 - accuracy: 0.5829 - val_loss: 1.9905 - val_accuracy: 0.4773\n",
            "Epoch 10/50\n",
            "1501/1501 [==============================] - 68s 45ms/step - loss: 1.3570 - accuracy: 0.5867 - val_loss: 2.0134 - val_accuracy: 0.4881\n",
            "Epoch 11/50\n",
            "1501/1501 [==============================] - 68s 45ms/step - loss: 1.3478 - accuracy: 0.5885 - val_loss: 2.0253 - val_accuracy: 0.4861\n",
            "Epoch 12/50\n",
            "1501/1501 [==============================] - 69s 46ms/step - loss: 1.3389 - accuracy: 0.5903 - val_loss: 2.0445 - val_accuracy: 0.4897\n",
            "Epoch 13/50\n",
            "1501/1501 [==============================] - 69s 46ms/step - loss: 1.3335 - accuracy: 0.5933 - val_loss: 2.0432 - val_accuracy: 0.4814\n",
            "Epoch 14/50\n",
            "1501/1501 [==============================] - 69s 46ms/step - loss: 1.3263 - accuracy: 0.5937 - val_loss: 2.0440 - val_accuracy: 0.4887\n",
            "Epoch 15/50\n",
            "1501/1501 [==============================] - 69s 46ms/step - loss: 1.3208 - accuracy: 0.5960 - val_loss: 2.0519 - val_accuracy: 0.4861\n",
            "Epoch 16/50\n",
            "1501/1501 [==============================] - 69s 46ms/step - loss: 1.3147 - accuracy: 0.5967 - val_loss: 2.0310 - val_accuracy: 0.4985\n",
            "Epoch 17/50\n",
            "1501/1501 [==============================] - 69s 46ms/step - loss: 1.3107 - accuracy: 0.5983 - val_loss: 2.0159 - val_accuracy: 0.4990\n",
            "Epoch 18/50\n",
            "1501/1501 [==============================] - 69s 46ms/step - loss: 1.3064 - accuracy: 0.5992 - val_loss: 2.0461 - val_accuracy: 0.4840\n",
            "Epoch 19/50\n",
            "1501/1501 [==============================] - 69s 46ms/step - loss: 1.3021 - accuracy: 0.6001 - val_loss: 2.0514 - val_accuracy: 0.4907\n",
            "Epoch 20/50\n",
            "1501/1501 [==============================] - 69s 46ms/step - loss: 1.2980 - accuracy: 0.6018 - val_loss: 2.0877 - val_accuracy: 0.4830\n",
            "Epoch 21/50\n",
            "1501/1501 [==============================] - 69s 46ms/step - loss: 1.2920 - accuracy: 0.6025 - val_loss: 2.0767 - val_accuracy: 0.4794\n",
            "Epoch 22/50\n",
            "1501/1501 [==============================] - 69s 46ms/step - loss: 1.2885 - accuracy: 0.6044 - val_loss: 2.0730 - val_accuracy: 0.4825\n",
            "Epoch 23/50\n",
            "1501/1501 [==============================] - 69s 46ms/step - loss: 1.2845 - accuracy: 0.6045 - val_loss: 2.0872 - val_accuracy: 0.4954\n",
            "Epoch 24/50\n",
            "1501/1501 [==============================] - 69s 46ms/step - loss: 1.2800 - accuracy: 0.6055 - val_loss: 2.0860 - val_accuracy: 0.4861\n",
            "Epoch 25/50\n",
            "1501/1501 [==============================] - 69s 46ms/step - loss: 1.2774 - accuracy: 0.6070 - val_loss: 2.0921 - val_accuracy: 0.4943\n",
            "Epoch 26/50\n",
            "1501/1501 [==============================] - 69s 46ms/step - loss: 1.2748 - accuracy: 0.6083 - val_loss: 2.0866 - val_accuracy: 0.4825\n",
            "Epoch 27/50\n",
            "1501/1501 [==============================] - 70s 46ms/step - loss: 1.2729 - accuracy: 0.6090 - val_loss: 2.0722 - val_accuracy: 0.4912\n",
            "Epoch 28/50\n",
            "1501/1501 [==============================] - 69s 46ms/step - loss: 1.2687 - accuracy: 0.6098 - val_loss: 2.1104 - val_accuracy: 0.4722\n",
            "Epoch 29/50\n",
            "1501/1501 [==============================] - 69s 46ms/step - loss: 1.2682 - accuracy: 0.6102 - val_loss: 2.1374 - val_accuracy: 0.4742\n",
            "Epoch 30/50\n",
            "1501/1501 [==============================] - 69s 46ms/step - loss: 1.2644 - accuracy: 0.6098 - val_loss: 2.1602 - val_accuracy: 0.4763\n",
            "Epoch 31/50\n",
            "1501/1501 [==============================] - 69s 46ms/step - loss: 1.2619 - accuracy: 0.6106 - val_loss: 2.1430 - val_accuracy: 0.4768\n",
            "Epoch 32/50\n",
            "1501/1501 [==============================] - 68s 45ms/step - loss: 1.2598 - accuracy: 0.6121 - val_loss: 2.1137 - val_accuracy: 0.4918\n",
            "Epoch 33/50\n",
            "1501/1501 [==============================] - 68s 46ms/step - loss: 1.2567 - accuracy: 0.6132 - val_loss: 2.1806 - val_accuracy: 0.4758\n",
            "Epoch 34/50\n",
            "1501/1501 [==============================] - 4746s 3s/step - loss: 1.2541 - accuracy: 0.6137 - val_loss: 2.1053 - val_accuracy: 0.4861\n",
            "Epoch 35/50\n",
            "1501/1501 [==============================] - 77s 51ms/step - loss: 1.2518 - accuracy: 0.6142 - val_loss: 2.1538 - val_accuracy: 0.4747\n",
            "Epoch 36/50\n",
            "1501/1501 [==============================] - 77s 51ms/step - loss: 1.2508 - accuracy: 0.6136 - val_loss: 2.1041 - val_accuracy: 0.4825\n",
            "Epoch 37/50\n",
            "1501/1501 [==============================] - 76s 50ms/step - loss: 1.2470 - accuracy: 0.6147 - val_loss: 2.1796 - val_accuracy: 0.4923\n",
            "Epoch 38/50\n",
            "1501/1501 [==============================] - 76s 51ms/step - loss: 1.2458 - accuracy: 0.6152 - val_loss: 2.1603 - val_accuracy: 0.4845\n",
            "Epoch 39/50\n",
            "1501/1501 [==============================] - 75s 50ms/step - loss: 1.2460 - accuracy: 0.6150 - val_loss: 2.2672 - val_accuracy: 0.4701\n",
            "Epoch 40/50\n",
            "1501/1501 [==============================] - 75s 50ms/step - loss: 1.2431 - accuracy: 0.6160 - val_loss: 2.2249 - val_accuracy: 0.4794\n",
            "Epoch 41/50\n",
            "1501/1501 [==============================] - 77s 51ms/step - loss: 1.2403 - accuracy: 0.6162 - val_loss: 2.2347 - val_accuracy: 0.4840\n",
            "Epoch 42/50\n",
            "1501/1501 [==============================] - 72s 48ms/step - loss: 1.2395 - accuracy: 0.6174 - val_loss: 2.2353 - val_accuracy: 0.4753\n",
            "Epoch 43/50\n",
            "1501/1501 [==============================] - 79s 52ms/step - loss: 1.2381 - accuracy: 0.6179 - val_loss: 2.2335 - val_accuracy: 0.4902\n",
            "Epoch 44/50\n",
            "1501/1501 [==============================] - 66s 44ms/step - loss: 1.2363 - accuracy: 0.6171 - val_loss: 2.2197 - val_accuracy: 0.4835\n",
            "Epoch 45/50\n",
            "1501/1501 [==============================] - 65s 44ms/step - loss: 1.2339 - accuracy: 0.6188 - val_loss: 2.1906 - val_accuracy: 0.4773\n",
            "Epoch 46/50\n",
            "1501/1501 [==============================] - 66s 44ms/step - loss: 1.2322 - accuracy: 0.6187 - val_loss: 2.2821 - val_accuracy: 0.4582\n",
            "Epoch 47/50\n",
            "1501/1501 [==============================] - 67s 45ms/step - loss: 1.2313 - accuracy: 0.6190 - val_loss: 2.2791 - val_accuracy: 0.4588\n",
            "Epoch 48/50\n",
            "1501/1501 [==============================] - 67s 45ms/step - loss: 1.2295 - accuracy: 0.6194 - val_loss: 2.2499 - val_accuracy: 0.4722\n",
            "Epoch 49/50\n",
            "1501/1501 [==============================] - 67s 45ms/step - loss: 1.2305 - accuracy: 0.6195 - val_loss: 2.2285 - val_accuracy: 0.4892\n",
            "Epoch 50/50\n",
            "1501/1501 [==============================] - 67s 45ms/step - loss: 1.2290 - accuracy: 0.6189 - val_loss: 2.2623 - val_accuracy: 0.4789\n"
          ]
        }
      ],
      "source": [
        "optimizer = RMSprop(learning_rate=0.01)\n",
        "model.compile(loss='categorical_crossentropy', optimizer=optimizer, metrics=['accuracy'])\n",
        "history = model.fit(X, y, validation_split=0.01, batch_size=128, epochs=50, shuffle=True).history"
      ]
    },
    {
      "cell_type": "code",
      "execution_count": 20,
      "metadata": {
        "id": "yqyrR59xVcbE"
      },
      "outputs": [],
      "source": [
        "model.save('word_prediction_model.h5')\n",
        "pickle.dump(history, open(\"history.p\", \"wb\"))"
      ]
    },
    {
      "cell_type": "code",
      "execution_count": 21,
      "metadata": {
        "id": "2_oiDWaTVcn-"
      },
      "outputs": [],
      "source": [
        "model = load_model('word_prediction_model.h5')\n",
        "history = pickle.load(open(\"history.p\", \"rb\"))\n"
      ]
    },
    {
      "cell_type": "code",
      "execution_count": 22,
      "metadata": {
        "colab": {
          "base_uri": "https://localhost:8080/"
        },
        "id": "5HGAe2-eVcrW",
        "outputId": "05cbb61f-098c-4746-baf0-38527bc99dd8"
      },
      "outputs": [
        {
          "name": "stdout",
          "output_type": "stream",
          "text": [
            "6061/6061 [==============================] - 50s 8ms/step - loss: 1.2082 - accuracy: 0.6267\n",
            "Test Loss 1.2081577777862549\n",
            "Test Accuracy 0.6266563534736633\n"
          ]
        }
      ],
      "source": [
        "loss_and_acc=model.evaluate(X,y)\n",
        "print(\"Test Loss\", loss_and_acc[0])\n",
        "print(\"Test Accuracy\", loss_and_acc[1])"
      ]
    },
    {
      "cell_type": "code",
      "execution_count": 23,
      "metadata": {
        "id": "RC0Kc6bhVdC6"
      },
      "outputs": [],
      "source": [
        "\n",
        "acc = history['accuracy']\n",
        "val_acc = history['val_accuracy']\n",
        "loss = history['loss']\n",
        "val_loss = history['val_loss']\n",
        "epochs = range(len(acc))\n"
      ]
    },
    {
      "cell_type": "code",
      "execution_count": 24,
      "metadata": {
        "colab": {
          "base_uri": "https://localhost:8080/",
          "height": 513
        },
        "id": "UebTm2axVdO3",
        "outputId": "2166f8a4-5081-4951-f163-1c97f2c35df8"
      },
      "outputs": [
        {
          "data": {
            "image/png": "[encoded data removed]",
            "text/plain": [
              "<Figure size 2000x600 with 2 Axes>"
            ]
          },
          "metadata": {},
          "output_type": "display_data"
        }
      ],
      "source": [
        "import seaborn as sns\n",
        "sns.set_style('whitegrid')\n",
        "fig, ax = plt.subplots(nrows=1, ncols=2, figsize=(20, 6))\n",
        "ax[0].plot(epochs, acc, 'g', label='Training accuracy')\n",
        "ax[0].plot(epochs, val_acc, 'b', label='Validation accuracy')\n",
        "ax[0].legend(loc=0)\n",
        "ax[1].plot(epochs, loss, 'g', label='Training loss')\n",
        "ax[1].plot(epochs, val_loss, 'b', label='Validation loss')\n",
        "ax[1].legend(loc=0)\n",
        "\n",
        "plt.suptitle('Training and validation')\n",
        "plt.show()\n"
      ]
    },
    {
      "cell_type": "code",
      "execution_count": 25,
      "metadata": {
        "id": "Q8UEW-ShVp3P"
      },
      "outputs": [],
      "source": [
        "def prepare_input(text):\n",
        "    x = np.zeros((1, sequence_len, len(character)))\n",
        "    for t, char in enumerate(text):\n",
        "        x[0, t, char_indices[char]] = 1.\n",
        "\n",
        "    return x"
      ]
    },
    {
      "cell_type": "code",
      "execution_count": 26,
      "metadata": {
        "colab": {
          "base_uri": "https://localhost:8080/"
        },
        "id": "RloXDgMiVp5b",
        "outputId": "1847b7a5-2566-4aac-df9a-f6ff03fc2ff6"
      },
      "outputs": [
        {
          "data": {
            "text/plain": [
              "array([[[0., 0., 0., ..., 0., 0., 0.],\n",
              "        [0., 0., 0., ..., 0., 0., 0.],\n",
              "        [0., 0., 0., ..., 0., 0., 0.],\n",
              "        ...,\n",
              "        [0., 0., 0., ..., 0., 0., 0.],\n",
              "        [0., 0., 0., ..., 0., 0., 0.],\n",
              "        [0., 0., 0., ..., 0., 0., 0.]]])"
            ]
          },
          "execution_count": 26,
          "metadata": {},
          "output_type": "execute_result"
        }
      ],
      "source": [
        "prepare_input(\"This is an example of input of our model\".lower())"
      ]
    },
    {
      "cell_type": "code",
      "execution_count": 27,
      "metadata": {
        "id": "ZeOxKQL8Vp7t"
      },
      "outputs": [],
      "source": [
        "def sample(preds, top_n=3):\n",
        "    preds = np.asarray(preds).astype('float64')\n",
        "    preds = np.log(preds)\n",
        "    exp_preds = np.exp(preds)\n",
        "    preds = exp_preds / np.sum(exp_preds)\n",
        "\n",
        "    return heapq.nlargest(top_n, range(len(preds)), preds.take)"
      ]
    },
    {
      "cell_type": "code",
      "execution_count": 28,
      "metadata": {
        "id": "w7xdtrxuVp-L"
      },
      "outputs": [],
      "source": [
        "def predict_completion(text):\n",
        "    original_text = text\n",
        "    generated = text\n",
        "    completion = ''\n",
        "    while True:\n",
        "        x = prepare_input(text)\n",
        "        preds = model.predict(x, verbose=0)[0]\n",
        "        next_index = sample(preds, top_n=1)[0]\n",
        "        next_char = indices_char[next_index]\n",
        "        text = text[1:] + next_char\n",
        "        completion += next_char\n",
        "\n",
        "        if len(original_text + completion) + 2 > len(original_text) and next_char == ' ':\n",
        "            return completion"
      ]
    },
    {
      "cell_type": "code",
      "execution_count": 29,
      "metadata": {
        "id": "WAjf6Dz-VqAT"
      },
      "outputs": [],
      "source": [
        "def predict_completions(text, n=3):\n",
        "    x = prepare_input(text)\n",
        "    preds = model.predict(x, verbose=0)[0]\n",
        "    next_indices = sample(preds, n)\n",
        "    return [indices_char[idx] + predict_completion(text[1:] + indices_char[idx]) for idx in next_indices]\n"
      ]
    },
    {
      "cell_type": "code",
      "execution_count": 30,
      "metadata": {
        "id": "5cZn_MsdVqCu"
      },
      "outputs": [],
      "source": [
        "\n",
        "quotes = [\n",
        "    \"Artificial intelligence is about making computers act more like humans.\",\n",
        "    \"Machine learning  is the study of computer algorithms that improve automatically through experience and by the use of data.\",\n",
        "    \"It is not a lack of love, but a lack of friendship that makes unhappy marriages.\",\n",
        "    \" A machine with artificial intelligence can determine the cause of action\",\n",
        "    \"Thanks you Lets Grow More for giving me this opportunity.\"\n",
        "\n",
        "]"
      ]
    },
    {
      "cell_type": "code",
      "execution_count": 31,
      "metadata": {
        "colab": {
          "base_uri": "https://localhost:8080/"
        },
        "id": "vpMkbJ-KVqFB",
        "outputId": "6442f4c4-e69b-43b0-f644-15b5297d5fd9"
      },
      "outputs": [
        {
          "name": "stdout",
          "output_type": "stream",
          "text": [
            "artificial intelligence is about making \n",
            "['the ', 'and ', 'in ', 'out ', 'his ']\n",
            "\n",
            "machine learning  is the study of comput\n",
            "['e ', 'ance ', 'ion ', 'y ', 'once ']\n",
            "\n",
            "it is not a lack of love, but a lack of \n",
            "['the ', 'a ', 'me. ', 'his ', 'some ']\n",
            "\n",
            " a machine with artificial intelligence \n",
            "['to ', 'which ', 'and ', 'in ', 'of ']\n",
            "\n",
            "thanks you lets grow more for giving me \n",
            "['to ', 'with ', 'and ', 'from ', 'in ']\n",
            "\n"
          ]
        }
      ],
      "source": [
        "for q in quotes:\n",
        "    seq = q[:40].lower()\n",
        "    print(seq)\n",
        "    print(predict_completions(seq, 5))\n",
        "    print()\n"
      ]
    }
  ],
  "metadata": {
    "colab": {
      "provenance": []
    },
    "kernelspec": {
      "display_name": "Python 3.10.4 64-bit",
      "language": "python",
      "name": "python3"
    },
    "language_info": {
      "codemirror_mode": {
        "name": "ipython",
        "version": 3
      },
      "file_extension": ".py",
      "mimetype": "text/x-python",
      "name": "python",
      "nbconvert_exporter": "python",
      "pygments_lexer": "ipython3",
      "version": "3.10.4"
    },
    "vscode": {
      "interpreter": {
        "hash": "3196968d684371006099b3d55edeef8ed90365227a30deaef86e5d4aa8519be0"
      }
    }
  },
  "nbformat": 4,
  "nbformat_minor": 0
}
